{
 "cells": [
  {
   "cell_type": "markdown",
   "id": "870a9940",
   "metadata": {},
   "source": [
    "# Imports"
   ]
  },
  {
   "cell_type": "code",
   "execution_count": 1,
   "id": "b46520fc",
   "metadata": {
    "ExecuteTime": {
     "end_time": "2022-01-19T10:08:46.332809Z",
     "start_time": "2022-01-19T10:08:37.373315Z"
    }
   },
   "outputs": [],
   "source": [
    "import tensorflow as tf\n",
    "\n",
    "from tensorflow.keras.models import Sequential\n",
    "from tensorflow.keras.layers import Flatten, Dense, Conv2D, Dropout, MaxPool2D, Resizing, BatchNormalization\n",
    "from tensorflow.nn import sigmoid, relu, softmax, softmax_cross_entropy_with_logits\n",
    "from tensorflow.keras.utils import normalize\n",
    "from tensorflow.keras.callbacks import TensorBoard\n",
    "\n",
    "from keras.utils import np_utils\n",
    "%load_ext tensorboard"
   ]
  },
  {
   "cell_type": "code",
   "execution_count": 2,
   "id": "ed34fb74",
   "metadata": {
    "ExecuteTime": {
     "end_time": "2022-01-19T10:08:48.714350Z",
     "start_time": "2022-01-19T10:08:46.334305Z"
    }
   },
   "outputs": [],
   "source": [
    "import pandas as pd\n",
    "import numpy as np\n",
    "import matplotlib.pyplot as plt\n",
    "import seaborn as sns\n",
    "%matplotlib inline"
   ]
  },
  {
   "cell_type": "code",
   "execution_count": 3,
   "id": "9ebbc824",
   "metadata": {
    "ExecuteTime": {
     "end_time": "2022-01-19T10:08:49.687492Z",
     "start_time": "2022-01-19T10:08:48.715696Z"
    }
   },
   "outputs": [],
   "source": [
    "from sklearn.metrics import classification_report, confusion_matrix, accuracy_score, mean_absolute_error, mean_squared_error\n",
    "from sklearn.model_selection import train_test_split, GridSearchCV\n",
    "from sklearn.svm import SVC\n",
    "from sklearn.tree import DecisionTreeClassifier\n",
    "from sklearn.ensemble import RandomForestClassifier"
   ]
  },
  {
   "cell_type": "code",
   "execution_count": 4,
   "id": "59a3cf6a",
   "metadata": {
    "ExecuteTime": {
     "end_time": "2022-01-19T10:08:49.702992Z",
     "start_time": "2022-01-19T10:08:49.689495Z"
    }
   },
   "outputs": [],
   "source": [
    "import pickle\n",
    "import json\n",
    "from datetime import datetime"
   ]
  },
  {
   "cell_type": "markdown",
   "id": "42232411",
   "metadata": {},
   "source": [
    "\n",
    "# Read & view details about dataframe"
   ]
  },
  {
   "cell_type": "code",
   "execution_count": 5,
   "id": "edd74ac8",
   "metadata": {
    "ExecuteTime": {
     "end_time": "2022-01-15T08:37:42.512422Z",
     "start_time": "2022-01-15T08:37:40.344333Z"
    }
   },
   "outputs": [],
   "source": [
    "df_train = pd.read_csv('train.csv')"
   ]
  },
  {
   "cell_type": "markdown",
   "id": "29bcbff6",
   "metadata": {},
   "source": [
    "\n",
    "## Create data"
   ]
  },
  {
   "cell_type": "code",
   "execution_count": 6,
   "id": "761663a7",
   "metadata": {
    "ExecuteTime": {
     "end_time": "2022-01-15T08:37:42.775421Z",
     "start_time": "2022-01-15T08:37:42.513760Z"
    }
   },
   "outputs": [],
   "source": [
    "X = df_train.drop('label', axis=1)\n",
    "y = df_train['label']\n",
    "X_train, X_test, y_train, y_test = train_test_split(\n",
    "    X, y, test_size=0.2, random_state=43)"
   ]
  },
  {
   "cell_type": "markdown",
   "id": "86d499d6",
   "metadata": {},
   "source": [
    "## Normalize data"
   ]
  },
  {
   "cell_type": "code",
   "execution_count": 7,
   "id": "0d070986",
   "metadata": {
    "ExecuteTime": {
     "end_time": "2022-01-15T08:37:43.054285Z",
     "start_time": "2022-01-15T08:37:42.776760Z"
    }
   },
   "outputs": [],
   "source": [
    "X_train = normalize(X_train, axis=1)\n",
    "X_test = normalize(X_test, axis=1)"
   ]
  },
  {
   "cell_type": "code",
   "execution_count": 5,
   "id": "5916dff1",
   "metadata": {
    "ExecuteTime": {
     "end_time": "2021-12-16T16:44:01.705978Z",
     "start_time": "2021-12-16T16:44:01.676444Z"
    }
   },
   "outputs": [
    {
     "data": {
      "text/html": [
       "<div>\n",
       "<style scoped>\n",
       "    .dataframe tbody tr th:only-of-type {\n",
       "        vertical-align: middle;\n",
       "    }\n",
       "\n",
       "    .dataframe tbody tr th {\n",
       "        vertical-align: top;\n",
       "    }\n",
       "\n",
       "    .dataframe thead th {\n",
       "        text-align: right;\n",
       "    }\n",
       "</style>\n",
       "<table border=\"1\" class=\"dataframe\">\n",
       "  <thead>\n",
       "    <tr style=\"text-align: right;\">\n",
       "      <th></th>\n",
       "      <th>label</th>\n",
       "      <th>pixel0</th>\n",
       "      <th>pixel1</th>\n",
       "      <th>pixel2</th>\n",
       "      <th>pixel3</th>\n",
       "      <th>pixel4</th>\n",
       "      <th>pixel5</th>\n",
       "      <th>pixel6</th>\n",
       "      <th>pixel7</th>\n",
       "      <th>pixel8</th>\n",
       "      <th>...</th>\n",
       "      <th>pixel774</th>\n",
       "      <th>pixel775</th>\n",
       "      <th>pixel776</th>\n",
       "      <th>pixel777</th>\n",
       "      <th>pixel778</th>\n",
       "      <th>pixel779</th>\n",
       "      <th>pixel780</th>\n",
       "      <th>pixel781</th>\n",
       "      <th>pixel782</th>\n",
       "      <th>pixel783</th>\n",
       "    </tr>\n",
       "  </thead>\n",
       "  <tbody>\n",
       "    <tr>\n",
       "      <th>0</th>\n",
       "      <td>1</td>\n",
       "      <td>0</td>\n",
       "      <td>0</td>\n",
       "      <td>0</td>\n",
       "      <td>0</td>\n",
       "      <td>0</td>\n",
       "      <td>0</td>\n",
       "      <td>0</td>\n",
       "      <td>0</td>\n",
       "      <td>0</td>\n",
       "      <td>...</td>\n",
       "      <td>0</td>\n",
       "      <td>0</td>\n",
       "      <td>0</td>\n",
       "      <td>0</td>\n",
       "      <td>0</td>\n",
       "      <td>0</td>\n",
       "      <td>0</td>\n",
       "      <td>0</td>\n",
       "      <td>0</td>\n",
       "      <td>0</td>\n",
       "    </tr>\n",
       "    <tr>\n",
       "      <th>1</th>\n",
       "      <td>0</td>\n",
       "      <td>0</td>\n",
       "      <td>0</td>\n",
       "      <td>0</td>\n",
       "      <td>0</td>\n",
       "      <td>0</td>\n",
       "      <td>0</td>\n",
       "      <td>0</td>\n",
       "      <td>0</td>\n",
       "      <td>0</td>\n",
       "      <td>...</td>\n",
       "      <td>0</td>\n",
       "      <td>0</td>\n",
       "      <td>0</td>\n",
       "      <td>0</td>\n",
       "      <td>0</td>\n",
       "      <td>0</td>\n",
       "      <td>0</td>\n",
       "      <td>0</td>\n",
       "      <td>0</td>\n",
       "      <td>0</td>\n",
       "    </tr>\n",
       "    <tr>\n",
       "      <th>2</th>\n",
       "      <td>1</td>\n",
       "      <td>0</td>\n",
       "      <td>0</td>\n",
       "      <td>0</td>\n",
       "      <td>0</td>\n",
       "      <td>0</td>\n",
       "      <td>0</td>\n",
       "      <td>0</td>\n",
       "      <td>0</td>\n",
       "      <td>0</td>\n",
       "      <td>...</td>\n",
       "      <td>0</td>\n",
       "      <td>0</td>\n",
       "      <td>0</td>\n",
       "      <td>0</td>\n",
       "      <td>0</td>\n",
       "      <td>0</td>\n",
       "      <td>0</td>\n",
       "      <td>0</td>\n",
       "      <td>0</td>\n",
       "      <td>0</td>\n",
       "    </tr>\n",
       "    <tr>\n",
       "      <th>3</th>\n",
       "      <td>4</td>\n",
       "      <td>0</td>\n",
       "      <td>0</td>\n",
       "      <td>0</td>\n",
       "      <td>0</td>\n",
       "      <td>0</td>\n",
       "      <td>0</td>\n",
       "      <td>0</td>\n",
       "      <td>0</td>\n",
       "      <td>0</td>\n",
       "      <td>...</td>\n",
       "      <td>0</td>\n",
       "      <td>0</td>\n",
       "      <td>0</td>\n",
       "      <td>0</td>\n",
       "      <td>0</td>\n",
       "      <td>0</td>\n",
       "      <td>0</td>\n",
       "      <td>0</td>\n",
       "      <td>0</td>\n",
       "      <td>0</td>\n",
       "    </tr>\n",
       "    <tr>\n",
       "      <th>4</th>\n",
       "      <td>0</td>\n",
       "      <td>0</td>\n",
       "      <td>0</td>\n",
       "      <td>0</td>\n",
       "      <td>0</td>\n",
       "      <td>0</td>\n",
       "      <td>0</td>\n",
       "      <td>0</td>\n",
       "      <td>0</td>\n",
       "      <td>0</td>\n",
       "      <td>...</td>\n",
       "      <td>0</td>\n",
       "      <td>0</td>\n",
       "      <td>0</td>\n",
       "      <td>0</td>\n",
       "      <td>0</td>\n",
       "      <td>0</td>\n",
       "      <td>0</td>\n",
       "      <td>0</td>\n",
       "      <td>0</td>\n",
       "      <td>0</td>\n",
       "    </tr>\n",
       "  </tbody>\n",
       "</table>\n",
       "<p>5 rows × 785 columns</p>\n",
       "</div>"
      ],
      "text/plain": [
       "   label  pixel0  pixel1  pixel2  pixel3  pixel4  pixel5  pixel6  pixel7  \\\n",
       "0      1       0       0       0       0       0       0       0       0   \n",
       "1      0       0       0       0       0       0       0       0       0   \n",
       "2      1       0       0       0       0       0       0       0       0   \n",
       "3      4       0       0       0       0       0       0       0       0   \n",
       "4      0       0       0       0       0       0       0       0       0   \n",
       "\n",
       "   pixel8  ...  pixel774  pixel775  pixel776  pixel777  pixel778  pixel779  \\\n",
       "0       0  ...         0         0         0         0         0         0   \n",
       "1       0  ...         0         0         0         0         0         0   \n",
       "2       0  ...         0         0         0         0         0         0   \n",
       "3       0  ...         0         0         0         0         0         0   \n",
       "4       0  ...         0         0         0         0         0         0   \n",
       "\n",
       "   pixel780  pixel781  pixel782  pixel783  \n",
       "0         0         0         0         0  \n",
       "1         0         0         0         0  \n",
       "2         0         0         0         0  \n",
       "3         0         0         0         0  \n",
       "4         0         0         0         0  \n",
       "\n",
       "[5 rows x 785 columns]"
      ]
     },
     "execution_count": 5,
     "metadata": {},
     "output_type": "execute_result"
    }
   ],
   "source": [
    "df_train.head()"
   ]
  },
  {
   "cell_type": "code",
   "execution_count": 6,
   "id": "4157aa87",
   "metadata": {
    "ExecuteTime": {
     "end_time": "2021-12-16T16:44:01.783045Z",
     "start_time": "2021-12-16T16:44:01.707977Z"
    }
   },
   "outputs": [
    {
     "name": "stdout",
     "output_type": "stream",
     "text": [
      "<class 'pandas.core.frame.DataFrame'>\n",
      "RangeIndex: 42000 entries, 0 to 41999\n",
      "Columns: 785 entries, label to pixel783\n",
      "dtypes: int64(785)\n",
      "memory usage: 251.5 MB\n"
     ]
    }
   ],
   "source": [
    "df_train.info()"
   ]
  },
  {
   "cell_type": "code",
   "execution_count": 7,
   "id": "c2afe20f",
   "metadata": {
    "ExecuteTime": {
     "end_time": "2021-12-16T16:44:03.270673Z",
     "start_time": "2021-12-16T16:44:01.784141Z"
    }
   },
   "outputs": [
    {
     "data": {
      "text/html": [
       "<div>\n",
       "<style scoped>\n",
       "    .dataframe tbody tr th:only-of-type {\n",
       "        vertical-align: middle;\n",
       "    }\n",
       "\n",
       "    .dataframe tbody tr th {\n",
       "        vertical-align: top;\n",
       "    }\n",
       "\n",
       "    .dataframe thead th {\n",
       "        text-align: right;\n",
       "    }\n",
       "</style>\n",
       "<table border=\"1\" class=\"dataframe\">\n",
       "  <thead>\n",
       "    <tr style=\"text-align: right;\">\n",
       "      <th></th>\n",
       "      <th>label</th>\n",
       "      <th>pixel0</th>\n",
       "      <th>pixel1</th>\n",
       "      <th>pixel2</th>\n",
       "      <th>pixel3</th>\n",
       "      <th>pixel4</th>\n",
       "      <th>pixel5</th>\n",
       "      <th>pixel6</th>\n",
       "      <th>pixel7</th>\n",
       "      <th>pixel8</th>\n",
       "      <th>...</th>\n",
       "      <th>pixel774</th>\n",
       "      <th>pixel775</th>\n",
       "      <th>pixel776</th>\n",
       "      <th>pixel777</th>\n",
       "      <th>pixel778</th>\n",
       "      <th>pixel779</th>\n",
       "      <th>pixel780</th>\n",
       "      <th>pixel781</th>\n",
       "      <th>pixel782</th>\n",
       "      <th>pixel783</th>\n",
       "    </tr>\n",
       "  </thead>\n",
       "  <tbody>\n",
       "    <tr>\n",
       "      <th>count</th>\n",
       "      <td>42000.000000</td>\n",
       "      <td>42000.0</td>\n",
       "      <td>42000.0</td>\n",
       "      <td>42000.0</td>\n",
       "      <td>42000.0</td>\n",
       "      <td>42000.0</td>\n",
       "      <td>42000.0</td>\n",
       "      <td>42000.0</td>\n",
       "      <td>42000.0</td>\n",
       "      <td>42000.0</td>\n",
       "      <td>...</td>\n",
       "      <td>42000.000000</td>\n",
       "      <td>42000.000000</td>\n",
       "      <td>42000.000000</td>\n",
       "      <td>42000.00000</td>\n",
       "      <td>42000.000000</td>\n",
       "      <td>42000.000000</td>\n",
       "      <td>42000.0</td>\n",
       "      <td>42000.0</td>\n",
       "      <td>42000.0</td>\n",
       "      <td>42000.0</td>\n",
       "    </tr>\n",
       "    <tr>\n",
       "      <th>mean</th>\n",
       "      <td>4.456643</td>\n",
       "      <td>0.0</td>\n",
       "      <td>0.0</td>\n",
       "      <td>0.0</td>\n",
       "      <td>0.0</td>\n",
       "      <td>0.0</td>\n",
       "      <td>0.0</td>\n",
       "      <td>0.0</td>\n",
       "      <td>0.0</td>\n",
       "      <td>0.0</td>\n",
       "      <td>...</td>\n",
       "      <td>0.219286</td>\n",
       "      <td>0.117095</td>\n",
       "      <td>0.059024</td>\n",
       "      <td>0.02019</td>\n",
       "      <td>0.017238</td>\n",
       "      <td>0.002857</td>\n",
       "      <td>0.0</td>\n",
       "      <td>0.0</td>\n",
       "      <td>0.0</td>\n",
       "      <td>0.0</td>\n",
       "    </tr>\n",
       "    <tr>\n",
       "      <th>std</th>\n",
       "      <td>2.887730</td>\n",
       "      <td>0.0</td>\n",
       "      <td>0.0</td>\n",
       "      <td>0.0</td>\n",
       "      <td>0.0</td>\n",
       "      <td>0.0</td>\n",
       "      <td>0.0</td>\n",
       "      <td>0.0</td>\n",
       "      <td>0.0</td>\n",
       "      <td>0.0</td>\n",
       "      <td>...</td>\n",
       "      <td>6.312890</td>\n",
       "      <td>4.633819</td>\n",
       "      <td>3.274488</td>\n",
       "      <td>1.75987</td>\n",
       "      <td>1.894498</td>\n",
       "      <td>0.414264</td>\n",
       "      <td>0.0</td>\n",
       "      <td>0.0</td>\n",
       "      <td>0.0</td>\n",
       "      <td>0.0</td>\n",
       "    </tr>\n",
       "    <tr>\n",
       "      <th>min</th>\n",
       "      <td>0.000000</td>\n",
       "      <td>0.0</td>\n",
       "      <td>0.0</td>\n",
       "      <td>0.0</td>\n",
       "      <td>0.0</td>\n",
       "      <td>0.0</td>\n",
       "      <td>0.0</td>\n",
       "      <td>0.0</td>\n",
       "      <td>0.0</td>\n",
       "      <td>0.0</td>\n",
       "      <td>...</td>\n",
       "      <td>0.000000</td>\n",
       "      <td>0.000000</td>\n",
       "      <td>0.000000</td>\n",
       "      <td>0.00000</td>\n",
       "      <td>0.000000</td>\n",
       "      <td>0.000000</td>\n",
       "      <td>0.0</td>\n",
       "      <td>0.0</td>\n",
       "      <td>0.0</td>\n",
       "      <td>0.0</td>\n",
       "    </tr>\n",
       "    <tr>\n",
       "      <th>25%</th>\n",
       "      <td>2.000000</td>\n",
       "      <td>0.0</td>\n",
       "      <td>0.0</td>\n",
       "      <td>0.0</td>\n",
       "      <td>0.0</td>\n",
       "      <td>0.0</td>\n",
       "      <td>0.0</td>\n",
       "      <td>0.0</td>\n",
       "      <td>0.0</td>\n",
       "      <td>0.0</td>\n",
       "      <td>...</td>\n",
       "      <td>0.000000</td>\n",
       "      <td>0.000000</td>\n",
       "      <td>0.000000</td>\n",
       "      <td>0.00000</td>\n",
       "      <td>0.000000</td>\n",
       "      <td>0.000000</td>\n",
       "      <td>0.0</td>\n",
       "      <td>0.0</td>\n",
       "      <td>0.0</td>\n",
       "      <td>0.0</td>\n",
       "    </tr>\n",
       "    <tr>\n",
       "      <th>50%</th>\n",
       "      <td>4.000000</td>\n",
       "      <td>0.0</td>\n",
       "      <td>0.0</td>\n",
       "      <td>0.0</td>\n",
       "      <td>0.0</td>\n",
       "      <td>0.0</td>\n",
       "      <td>0.0</td>\n",
       "      <td>0.0</td>\n",
       "      <td>0.0</td>\n",
       "      <td>0.0</td>\n",
       "      <td>...</td>\n",
       "      <td>0.000000</td>\n",
       "      <td>0.000000</td>\n",
       "      <td>0.000000</td>\n",
       "      <td>0.00000</td>\n",
       "      <td>0.000000</td>\n",
       "      <td>0.000000</td>\n",
       "      <td>0.0</td>\n",
       "      <td>0.0</td>\n",
       "      <td>0.0</td>\n",
       "      <td>0.0</td>\n",
       "    </tr>\n",
       "    <tr>\n",
       "      <th>75%</th>\n",
       "      <td>7.000000</td>\n",
       "      <td>0.0</td>\n",
       "      <td>0.0</td>\n",
       "      <td>0.0</td>\n",
       "      <td>0.0</td>\n",
       "      <td>0.0</td>\n",
       "      <td>0.0</td>\n",
       "      <td>0.0</td>\n",
       "      <td>0.0</td>\n",
       "      <td>0.0</td>\n",
       "      <td>...</td>\n",
       "      <td>0.000000</td>\n",
       "      <td>0.000000</td>\n",
       "      <td>0.000000</td>\n",
       "      <td>0.00000</td>\n",
       "      <td>0.000000</td>\n",
       "      <td>0.000000</td>\n",
       "      <td>0.0</td>\n",
       "      <td>0.0</td>\n",
       "      <td>0.0</td>\n",
       "      <td>0.0</td>\n",
       "    </tr>\n",
       "    <tr>\n",
       "      <th>max</th>\n",
       "      <td>9.000000</td>\n",
       "      <td>0.0</td>\n",
       "      <td>0.0</td>\n",
       "      <td>0.0</td>\n",
       "      <td>0.0</td>\n",
       "      <td>0.0</td>\n",
       "      <td>0.0</td>\n",
       "      <td>0.0</td>\n",
       "      <td>0.0</td>\n",
       "      <td>0.0</td>\n",
       "      <td>...</td>\n",
       "      <td>254.000000</td>\n",
       "      <td>254.000000</td>\n",
       "      <td>253.000000</td>\n",
       "      <td>253.00000</td>\n",
       "      <td>254.000000</td>\n",
       "      <td>62.000000</td>\n",
       "      <td>0.0</td>\n",
       "      <td>0.0</td>\n",
       "      <td>0.0</td>\n",
       "      <td>0.0</td>\n",
       "    </tr>\n",
       "  </tbody>\n",
       "</table>\n",
       "<p>8 rows × 785 columns</p>\n",
       "</div>"
      ],
      "text/plain": [
       "              label   pixel0   pixel1   pixel2   pixel3   pixel4   pixel5  \\\n",
       "count  42000.000000  42000.0  42000.0  42000.0  42000.0  42000.0  42000.0   \n",
       "mean       4.456643      0.0      0.0      0.0      0.0      0.0      0.0   \n",
       "std        2.887730      0.0      0.0      0.0      0.0      0.0      0.0   \n",
       "min        0.000000      0.0      0.0      0.0      0.0      0.0      0.0   \n",
       "25%        2.000000      0.0      0.0      0.0      0.0      0.0      0.0   \n",
       "50%        4.000000      0.0      0.0      0.0      0.0      0.0      0.0   \n",
       "75%        7.000000      0.0      0.0      0.0      0.0      0.0      0.0   \n",
       "max        9.000000      0.0      0.0      0.0      0.0      0.0      0.0   \n",
       "\n",
       "        pixel6   pixel7   pixel8  ...      pixel774      pixel775  \\\n",
       "count  42000.0  42000.0  42000.0  ...  42000.000000  42000.000000   \n",
       "mean       0.0      0.0      0.0  ...      0.219286      0.117095   \n",
       "std        0.0      0.0      0.0  ...      6.312890      4.633819   \n",
       "min        0.0      0.0      0.0  ...      0.000000      0.000000   \n",
       "25%        0.0      0.0      0.0  ...      0.000000      0.000000   \n",
       "50%        0.0      0.0      0.0  ...      0.000000      0.000000   \n",
       "75%        0.0      0.0      0.0  ...      0.000000      0.000000   \n",
       "max        0.0      0.0      0.0  ...    254.000000    254.000000   \n",
       "\n",
       "           pixel776     pixel777      pixel778      pixel779  pixel780  \\\n",
       "count  42000.000000  42000.00000  42000.000000  42000.000000   42000.0   \n",
       "mean       0.059024      0.02019      0.017238      0.002857       0.0   \n",
       "std        3.274488      1.75987      1.894498      0.414264       0.0   \n",
       "min        0.000000      0.00000      0.000000      0.000000       0.0   \n",
       "25%        0.000000      0.00000      0.000000      0.000000       0.0   \n",
       "50%        0.000000      0.00000      0.000000      0.000000       0.0   \n",
       "75%        0.000000      0.00000      0.000000      0.000000       0.0   \n",
       "max      253.000000    253.00000    254.000000     62.000000       0.0   \n",
       "\n",
       "       pixel781  pixel782  pixel783  \n",
       "count   42000.0   42000.0   42000.0  \n",
       "mean        0.0       0.0       0.0  \n",
       "std         0.0       0.0       0.0  \n",
       "min         0.0       0.0       0.0  \n",
       "25%         0.0       0.0       0.0  \n",
       "50%         0.0       0.0       0.0  \n",
       "75%         0.0       0.0       0.0  \n",
       "max         0.0       0.0       0.0  \n",
       "\n",
       "[8 rows x 785 columns]"
      ]
     },
     "execution_count": 7,
     "metadata": {},
     "output_type": "execute_result"
    }
   ],
   "source": [
    "df_train.describe()"
   ]
  },
  {
   "cell_type": "markdown",
   "id": "fc9decd0",
   "metadata": {},
   "source": [
    "# Data analysis"
   ]
  },
  {
   "cell_type": "code",
   "execution_count": 8,
   "id": "0aee0808",
   "metadata": {
    "ExecuteTime": {
     "end_time": "2021-12-16T16:44:03.472172Z",
     "start_time": "2021-12-16T16:44:03.272638Z"
    }
   },
   "outputs": [
    {
     "data": {
      "text/plain": [
       "[Text(0.5, 0, 'Digit 0 - 9')]"
      ]
     },
     "execution_count": 8,
     "metadata": {},
     "output_type": "execute_result"
    },
    {
     "data": {
      "image/png": "[encoded data removed]",
      "text/plain": [
       "<Figure size 864x432 with 1 Axes>"
      ]
     },
     "metadata": {
      "needs_background": "light"
     },
     "output_type": "display_data"
    }
   ],
   "source": [
    "fig, ax = plt.subplots(figsize=(12, 6))\n",
    "sns.countplot(data=df_train, x='label', ax=ax)\n",
    "ax.set(xlabel=\"Digit 0 - 9\")"
   ]
  },
  {
   "cell_type": "markdown",
   "id": "e4b0f6a3",
   "metadata": {},
   "source": [
    "Check if number of true values are relevant in determining a better score"
   ]
  },
  {
   "cell_type": "code",
   "execution_count": 9,
   "id": "5554eaf2",
   "metadata": {
    "ExecuteTime": {
     "end_time": "2021-12-16T16:44:03.580340Z",
     "start_time": "2021-12-16T16:44:03.473638Z"
    }
   },
   "outputs": [
    {
     "data": {
      "text/plain": [
       "26192.586357142856"
      ]
     },
     "execution_count": 9,
     "metadata": {},
     "output_type": "execute_result"
    }
   ],
   "source": [
    "df_train['true_values'] = df_train.drop('label', axis=1).sum(axis=1)\n",
    "df_train['true_values'].mean()"
   ]
  },
  {
   "cell_type": "code",
   "execution_count": 10,
   "id": "5f865995",
   "metadata": {
    "ExecuteTime": {
     "end_time": "2021-12-16T16:44:03.781639Z",
     "start_time": "2021-12-16T16:44:03.582137Z"
    }
   },
   "outputs": [
    {
     "data": {
      "text/plain": [
       "[Text(0.5, 0, 'Digit 0 - 9')]"
      ]
     },
     "execution_count": 10,
     "metadata": {},
     "output_type": "execute_result"
    },
    {
     "data": {
      "image/png": "[encoded data removed]",
      "text/plain": [
       "<Figure size 864x432 with 1 Axes>"
      ]
     },
     "metadata": {
      "needs_background": "light"
     },
     "output_type": "display_data"
    }
   ],
   "source": [
    "fig, ax = plt.subplots(figsize=(12, 6))\n",
    "sns.boxplot(data=df_train, x='label', y='true_values', ax=ax)\n",
    "ax.set(xlabel=\"Digit 0 - 9\")"
   ]
  },
  {
   "cell_type": "code",
   "execution_count": 11,
   "id": "901b8dc5",
   "metadata": {
    "ExecuteTime": {
     "end_time": "2021-12-16T16:44:04.091638Z",
     "start_time": "2021-12-16T16:44:03.782649Z"
    }
   },
   "outputs": [
    {
     "data": {
      "text/plain": [
       "[Text(0.5, 0, 'Digit 0 - 9')]"
      ]
     },
     "execution_count": 11,
     "metadata": {},
     "output_type": "execute_result"
    },
    {
     "data": {
      "image/png": "[encoded data removed]",
      "text/plain": [
       "<Figure size 864x432 with 1 Axes>"
      ]
     },
     "metadata": {
      "needs_background": "light"
     },
     "output_type": "display_data"
    }
   ],
   "source": [
    "fig, ax = plt.subplots(figsize=(12, 6))\n",
    "sns.violinplot(data=df_train, x='label', y='true_values', ax=ax)\n",
    "ax.set(xlabel=\"Digit 0 - 9\")"
   ]
  },
  {
   "cell_type": "code",
   "execution_count": 12,
   "id": "344baee2",
   "metadata": {
    "ExecuteTime": {
     "end_time": "2021-12-16T16:44:04.492657Z",
     "start_time": "2021-12-16T16:44:04.285978Z"
    }
   },
   "outputs": [],
   "source": [
    "df_train.drop('true_values', axis=1, inplace=True)"
   ]
  },
  {
   "cell_type": "code",
   "execution_count": 13,
   "id": "455865e9",
   "metadata": {
    "ExecuteTime": {
     "end_time": "2021-12-16T16:44:13.666826Z",
     "start_time": "2021-12-16T16:44:04.769657Z"
    }
   },
   "outputs": [],
   "source": [
    "arr_digits = []\n",
    "for _ in range(len(df_train)):\n",
    "    arr_digits.append(\n",
    "        {\n",
    "            \"label\": df_train.iloc[_]['label'],\n",
    "            \"pixels\": np.array(df_train.iloc[_][1:]).reshape((28, 28))\n",
    "        })"
   ]
  },
  {
   "cell_type": "code",
   "execution_count": 14,
   "id": "843c95be",
   "metadata": {
    "ExecuteTime": {
     "end_time": "2021-12-16T16:44:14.689306Z",
     "start_time": "2021-12-16T16:44:13.668694Z"
    }
   },
   "outputs": [
    {
     "data": {
      "image/png": "[encoded data removed]",
      "text/plain": [
       "<Figure size 504x504 with 9 Axes>"
      ]
     },
     "metadata": {
      "needs_background": "light"
     },
     "output_type": "display_data"
    }
   ],
   "source": [
    "fig, axes = plt.subplots(3, 3, figsize=(7, 7))\n",
    "x = y = np.linspace(0, 28, 1)\n",
    "_ = 0\n",
    "for i in range(3):\n",
    "    for j in range(3):\n",
    "        label = arr_digits[_]['label']\n",
    "        pixels = arr_digits[_]['pixels']\n",
    "\n",
    "        axes[i, j].matshow(pixels, cmap='gray')\n",
    "        axes[i, j].set_title(\"Label {}\".format(label))\n",
    "        _ += 1\n",
    "fig.tight_layout(pad=.5)\n",
    "plt.show()"
   ]
  },
  {
   "cell_type": "markdown",
   "id": "069282c6",
   "metadata": {},
   "source": [
    "# Fit & Print & Save models"
   ]
  },
  {
   "cell_type": "code",
   "execution_count": 17,
   "id": "d11d774a",
   "metadata": {
    "ExecuteTime": {
     "end_time": "2021-12-16T16:44:15.076532Z",
     "start_time": "2021-12-16T16:44:15.062491Z"
    }
   },
   "outputs": [],
   "source": [
    "best_scores = {}\n",
    "\n",
    "\n",
    "def print_info(name, best_params, y_true, y_pred):\n",
    "    print(\"\\n\\n*** {} ***\\n\\n\".format(name))\n",
    "    print(\"Classification report:\\n\", classification_report(y_true, y_pred))\n",
    "    print(\"Confusion matrix:\\n\", confusion_matrix(y_true, y_pred))\n",
    "\n",
    "    acc_score = accuracy_score(y_true, y_pred)\n",
    "    mae = mean_absolute_error(y_true, y_pred)\n",
    "    mse = mean_squared_error(y_true, y_pred)\n",
    "    print(\"Accuracy score: \" + str(acc_score),\n",
    "          \"Mean absolute error: \" + str(mae),\n",
    "          \"Mean squared error: \" + str(mse), sep='\\n')\n",
    "\n",
    "    if name in best_scores:\n",
    "        print(\"This name is used, cannot save this.\")\n",
    "        return\n",
    "\n",
    "    best_scores[name] = {\n",
    "        \"accuracy_score\": acc_score,\n",
    "        \"mean_absolute_error\": mae,\n",
    "        \"mean_squared_error\": mse,\n",
    "        \"params\": best_params\n",
    "    }\n",
    "\n",
    "\n",
    "def save_model(model):\n",
    "    pickle.dump(dtc_model, open(name+'.sav', 'wb'))\n",
    "\n",
    "\n",
    "def alg(name, model):\n",
    "    print(name)\n",
    "    model.fit(X_train, y_train)\n",
    "    y_pred = model.predict(X_test)\n",
    "    print_info(name, model.get_params(), y_test, y_pred)\n",
    "    save_model(model)"
   ]
  },
  {
   "cell_type": "markdown",
   "id": "a8340c89",
   "metadata": {},
   "source": [
    "# Select algorithms"
   ]
  },
  {
   "cell_type": "markdown",
   "id": "6885e064",
   "metadata": {},
   "source": [
    "* SVC\n",
    "* DecisionTreeClassifier\n",
    "* RandomForestClassifier"
   ]
  },
  {
   "cell_type": "code",
   "execution_count": null,
   "id": "44b9352e",
   "metadata": {
    "ExecuteTime": {
     "end_time": "2021-12-16T09:30:31.001034Z",
     "start_time": "2021-12-16T09:30:31.001034Z"
    }
   },
   "outputs": [],
   "source": [
    "svc_model = SVC()\n",
    "dtc_model = DecisionTreeClassifier()\n",
    "rfc_model = RandomForestClassifier()"
   ]
  },
  {
   "cell_type": "markdown",
   "id": "13cc4286",
   "metadata": {},
   "source": [
    "## Run algorithms"
   ]
  },
  {
   "cell_type": "code",
   "execution_count": null,
   "id": "96e9f49a",
   "metadata": {
    "ExecuteTime": {
     "end_time": "2021-12-16T09:30:31.002035Z",
     "start_time": "2021-12-16T09:30:31.002035Z"
    }
   },
   "outputs": [],
   "source": [
    "alg('DecisionTreeClassifier', dtc_model)\n",
    "alg(\"RandomForestClassifier\", rfc_model)\n",
    "alg(\"SVC\", svc_model)"
   ]
  },
  {
   "cell_type": "markdown",
   "id": "bbf25f7b",
   "metadata": {},
   "source": [
    "## Load models"
   ]
  },
  {
   "cell_type": "code",
   "execution_count": 18,
   "id": "1a06e45b",
   "metadata": {
    "ExecuteTime": {
     "end_time": "2021-12-16T16:44:19.863608Z",
     "start_time": "2021-12-16T16:44:19.852105Z"
    }
   },
   "outputs": [],
   "source": [
    "svc_model = pickle.load(open('SVC.sav', 'rb'))\n",
    "dtc_model = pickle.load(open('DecisionTreeClassifier.sav', 'rb'))\n",
    "rfc_model = pickle.load(open('RandomForestClassifier.sav', 'rb'))"
   ]
  },
  {
   "cell_type": "markdown",
   "id": "ccfd6969",
   "metadata": {},
   "source": [
    "## Fit data"
   ]
  },
  {
   "cell_type": "code",
   "execution_count": 19,
   "id": "3042de0e",
   "metadata": {
    "ExecuteTime": {
     "end_time": "2021-12-16T16:44:20.896621Z",
     "start_time": "2021-12-16T16:44:20.789443Z"
    }
   },
   "outputs": [],
   "source": [
    "y_pred_svc = svc_model.predict(X_test)\n",
    "y_pred_dtc = dtc_model.predict(X_test)\n",
    "y_pred_rfc = rfc_model.predict(X_test)"
   ]
  },
  {
   "cell_type": "code",
   "execution_count": 20,
   "id": "e93bcfde",
   "metadata": {
    "ExecuteTime": {
     "end_time": "2021-12-16T16:44:21.727548Z",
     "start_time": "2021-12-16T16:44:21.714024Z"
    }
   },
   "outputs": [],
   "source": [
    "tree_max_depth = dtc_model.tree_.max_depth"
   ]
  },
  {
   "cell_type": "markdown",
   "id": "238aee08",
   "metadata": {},
   "source": [
    "## Print info"
   ]
  },
  {
   "cell_type": "code",
   "execution_count": 21,
   "id": "2fab5a80",
   "metadata": {
    "ExecuteTime": {
     "end_time": "2021-12-16T16:44:23.648986Z",
     "start_time": "2021-12-16T16:44:23.568447Z"
    }
   },
   "outputs": [
    {
     "name": "stdout",
     "output_type": "stream",
     "text": [
      "\n",
      "\n",
      "*** SVC ***\n",
      "\n",
      "\n",
      "Classification report:\n",
      "               precision    recall  f1-score   support\n",
      "\n",
      "           0       0.92      0.91      0.92      1270\n",
      "           1       0.94      0.94      0.94      1382\n",
      "           2       0.84      0.84      0.84      1258\n",
      "           3       0.80      0.81      0.81      1259\n",
      "           4       0.82      0.85      0.84      1227\n",
      "           5       0.83      0.81      0.82      1198\n",
      "           6       0.89      0.88      0.88      1237\n",
      "           7       0.86      0.89      0.88      1254\n",
      "           8       0.80      0.79      0.79      1237\n",
      "           9       0.83      0.81      0.82      1278\n",
      "\n",
      "    accuracy                           0.85     12600\n",
      "   macro avg       0.85      0.85      0.85     12600\n",
      "weighted avg       0.85      0.85      0.85     12600\n",
      "\n",
      "Confusion matrix:\n",
      " [[1159    2   11   18    9   15   18   13   13   12]\n",
      " [   1 1298   15   12    7    9    4   17   18    1]\n",
      " [  17   16 1056   37   27   15   17   27   28   18]\n",
      " [   9   11   41 1020    9   64    7   25   45   28]\n",
      " [   7    4   14   12 1043   11   17   25   29   65]\n",
      " [  24    8   21   73   16  965   35    6   40   10]\n",
      " [  18    5   19   10   36   36 1084    2   22    5]\n",
      " [   5    9   26   21   19    7    3 1120   10   34]\n",
      " [  13   21   34   45   34   31   26   17  972   44]\n",
      " [   7    6   17   27   65   15    8   49   45 1039]]\n",
      "Accuracy score: 0.8536507936507937\n",
      "Mean absolute error: 0.5103968253968254\n",
      "Mean squared error: 2.373253968253968\n",
      "\n",
      "\n",
      "*** DTC ***\n",
      "\n",
      "\n",
      "Classification report:\n",
      "               precision    recall  f1-score   support\n",
      "\n",
      "           0       0.92      0.91      0.92      1270\n",
      "           1       0.94      0.94      0.94      1382\n",
      "           2       0.84      0.84      0.84      1258\n",
      "           3       0.80      0.81      0.81      1259\n",
      "           4       0.82      0.85      0.84      1227\n",
      "           5       0.83      0.81      0.82      1198\n",
      "           6       0.89      0.88      0.88      1237\n",
      "           7       0.86      0.89      0.88      1254\n",
      "           8       0.80      0.79      0.79      1237\n",
      "           9       0.83      0.81      0.82      1278\n",
      "\n",
      "    accuracy                           0.85     12600\n",
      "   macro avg       0.85      0.85      0.85     12600\n",
      "weighted avg       0.85      0.85      0.85     12600\n",
      "\n",
      "Confusion matrix:\n",
      " [[1159    2   11   18    9   15   18   13   13   12]\n",
      " [   1 1298   15   12    7    9    4   17   18    1]\n",
      " [  17   16 1056   37   27   15   17   27   28   18]\n",
      " [   9   11   41 1020    9   64    7   25   45   28]\n",
      " [   7    4   14   12 1043   11   17   25   29   65]\n",
      " [  24    8   21   73   16  965   35    6   40   10]\n",
      " [  18    5   19   10   36   36 1084    2   22    5]\n",
      " [   5    9   26   21   19    7    3 1120   10   34]\n",
      " [  13   21   34   45   34   31   26   17  972   44]\n",
      " [   7    6   17   27   65   15    8   49   45 1039]]\n",
      "Accuracy score: 0.8536507936507937\n",
      "Mean absolute error: 0.5103968253968254\n",
      "Mean squared error: 2.373253968253968\n",
      "\n",
      "\n",
      "*** RFC ***\n",
      "\n",
      "\n",
      "Classification report:\n",
      "               precision    recall  f1-score   support\n",
      "\n",
      "           0       0.92      0.91      0.92      1270\n",
      "           1       0.94      0.94      0.94      1382\n",
      "           2       0.84      0.84      0.84      1258\n",
      "           3       0.80      0.81      0.81      1259\n",
      "           4       0.82      0.85      0.84      1227\n",
      "           5       0.83      0.81      0.82      1198\n",
      "           6       0.89      0.88      0.88      1237\n",
      "           7       0.86      0.89      0.88      1254\n",
      "           8       0.80      0.79      0.79      1237\n",
      "           9       0.83      0.81      0.82      1278\n",
      "\n",
      "    accuracy                           0.85     12600\n",
      "   macro avg       0.85      0.85      0.85     12600\n",
      "weighted avg       0.85      0.85      0.85     12600\n",
      "\n",
      "Confusion matrix:\n",
      " [[1159    2   11   18    9   15   18   13   13   12]\n",
      " [   1 1298   15   12    7    9    4   17   18    1]\n",
      " [  17   16 1056   37   27   15   17   27   28   18]\n",
      " [   9   11   41 1020    9   64    7   25   45   28]\n",
      " [   7    4   14   12 1043   11   17   25   29   65]\n",
      " [  24    8   21   73   16  965   35    6   40   10]\n",
      " [  18    5   19   10   36   36 1084    2   22    5]\n",
      " [   5    9   26   21   19    7    3 1120   10   34]\n",
      " [  13   21   34   45   34   31   26   17  972   44]\n",
      " [   7    6   17   27   65   15    8   49   45 1039]]\n",
      "Accuracy score: 0.8536507936507937\n",
      "Mean absolute error: 0.5103968253968254\n",
      "Mean squared error: 2.373253968253968\n"
     ]
    }
   ],
   "source": [
    "print_info(\"SVC\", svc_model.get_params(), y_test, y_pred_svc)\n",
    "print_info(\"DTC\", dtc_model.get_params(), y_test, y_pred_dtc)\n",
    "print_info(\"RFC\", rfc_model.get_params(), y_test, y_pred_rfc)"
   ]
  },
  {
   "cell_type": "markdown",
   "id": "cf76586e",
   "metadata": {},
   "source": [
    "# DecisionTreeClassifier hyperparameters"
   ]
  },
  {
   "cell_type": "markdown",
   "id": "48eea0fe",
   "metadata": {},
   "source": [
    "## Create & Fit & Save model "
   ]
  },
  {
   "cell_type": "code",
   "execution_count": null,
   "id": "7514ed53",
   "metadata": {
    "ExecuteTime": {
     "end_time": "2021-12-16T09:30:31.007035Z",
     "start_time": "2021-12-16T09:30:31.007035Z"
    }
   },
   "outputs": [],
   "source": [
    "param_grid_dtc = {\n",
    "    'criterion': ['gini', 'entropy'],\n",
    "    'max_depth': range(tree_max_depth-5, tree_max_depth+5),\n",
    "    'min_samples_split':  range(2, 10),\n",
    "    'min_samples_leaf': range(1, 5)\n",
    "}\n",
    "\n",
    "grid_dtc = GridSearchCV(DecisionTreeClassifier(), param_grid_dtc, cv=3, verbose=3,\n",
    "                        n_jobs=-1)\n",
    "grid_dtc.fit(X_train, y_train)\n",
    "pickle.dump(grid_dtc, open(\"GridSearchCV-dtc.sav\", 'wb'))"
   ]
  },
  {
   "cell_type": "markdown",
   "id": "a8c13a28",
   "metadata": {},
   "source": [
    "## Load model"
   ]
  },
  {
   "cell_type": "code",
   "execution_count": 22,
   "id": "d5152b67",
   "metadata": {
    "ExecuteTime": {
     "end_time": "2021-12-16T16:44:27.787376Z",
     "start_time": "2021-12-16T16:44:27.781838Z"
    }
   },
   "outputs": [],
   "source": [
    "best_dtc = pickle.load(open('GridSearchCV-dtc.sav', 'rb'))"
   ]
  },
  {
   "cell_type": "markdown",
   "id": "29a9cb4f",
   "metadata": {},
   "source": [
    "## Fit data"
   ]
  },
  {
   "cell_type": "code",
   "execution_count": 23,
   "id": "b460abdc",
   "metadata": {
    "ExecuteTime": {
     "end_time": "2021-12-16T16:44:28.603623Z",
     "start_time": "2021-12-16T16:44:28.551556Z"
    }
   },
   "outputs": [],
   "source": [
    "y_pred_best_dtc = best_dtc.predict(X_test)"
   ]
  },
  {
   "cell_type": "markdown",
   "id": "859dfb22",
   "metadata": {},
   "source": [
    "## Print info"
   ]
  },
  {
   "cell_type": "code",
   "execution_count": 24,
   "id": "4d749952",
   "metadata": {
    "ExecuteTime": {
     "end_time": "2021-12-16T16:44:29.665384Z",
     "start_time": "2021-12-16T16:44:29.630601Z"
    }
   },
   "outputs": [
    {
     "name": "stdout",
     "output_type": "stream",
     "text": [
      "\n",
      "\n",
      "*** Best_DTC ***\n",
      "\n",
      "\n",
      "Classification report:\n",
      "               precision    recall  f1-score   support\n",
      "\n",
      "           0       0.92      0.91      0.92      1270\n",
      "           1       0.94      0.94      0.94      1382\n",
      "           2       0.83      0.84      0.83      1258\n",
      "           3       0.80      0.84      0.82      1259\n",
      "           4       0.85      0.85      0.85      1227\n",
      "           5       0.81      0.78      0.79      1198\n",
      "           6       0.86      0.88      0.87      1237\n",
      "           7       0.87      0.89      0.88      1254\n",
      "           8       0.82      0.78      0.80      1237\n",
      "           9       0.82      0.80      0.81      1278\n",
      "\n",
      "    accuracy                           0.85     12600\n",
      "   macro avg       0.85      0.85      0.85     12600\n",
      "weighted avg       0.85      0.85      0.85     12600\n",
      "\n",
      "Confusion matrix:\n",
      " [[1158    1   20   11    6   35   18    5   10    6]\n",
      " [   1 1305   15    9    2   11    8   19    8    4]\n",
      " [  11   16 1054   42   15   14   29   35   28   14]\n",
      " [   5    5   33 1056    6   59    8   20   37   30]\n",
      " [   7    4   19    6 1043   10   24   16   23   75]\n",
      " [  25   10   17   94   12  930   42    3   43   22]\n",
      " [  23   11   27   10   27   24 1091    1   18    5]\n",
      " [   6   11   29   17   17    8    3 1113   14   36]\n",
      " [  12   26   41   41   24   34   38   24  968   29]\n",
      " [   8    6   15   29   81   28    9   46   29 1027]]\n",
      "Accuracy score: 0.8527777777777777\n",
      "Mean absolute error: 0.5263492063492063\n",
      "Mean squared error: 2.442222222222222\n"
     ]
    }
   ],
   "source": [
    "print_info(\"Best_DTC\", best_dtc.best_params_, y_test, y_pred_best_dtc)"
   ]
  },
  {
   "cell_type": "markdown",
   "id": "60fdb9da",
   "metadata": {},
   "source": [
    "# RandomForestClassifier hyperparameters"
   ]
  },
  {
   "cell_type": "markdown",
   "id": "80f928d7",
   "metadata": {},
   "source": [
    "## Create & Fit & Save model "
   ]
  },
  {
   "cell_type": "code",
   "execution_count": null,
   "id": "c9cd6bea",
   "metadata": {
    "ExecuteTime": {
     "end_time": "2021-12-16T09:30:31.015035Z",
     "start_time": "2021-12-16T09:30:31.015035Z"
    }
   },
   "outputs": [],
   "source": [
    "param_grid_dtc = {\n",
    "    'n_estimators': [100, 300, 500],\n",
    "    'max_depth': [5, 8, 15, 25],\n",
    "    'min_samples_split': [2, 5, 10],\n",
    "    'min_samples_leaf': [1, 2, 5]\n",
    "}\n",
    "\n",
    "grid_rfc = GridSearchCV(RandomForestClassifier(), param_grid_dtc, cv=3, verbose=3,\n",
    "                        n_jobs=-1)\n",
    "grid_rfc.fit(X_train, y_train)\n",
    "pickle.dump(grid_rfc, open(\"GridSearchCV-rfc.sav\", 'wb'))"
   ]
  },
  {
   "cell_type": "markdown",
   "id": "491ad5b6",
   "metadata": {},
   "source": [
    "## Load model"
   ]
  },
  {
   "cell_type": "code",
   "execution_count": 25,
   "id": "08f7d08d",
   "metadata": {
    "ExecuteTime": {
     "end_time": "2021-12-16T16:44:36.677577Z",
     "start_time": "2021-12-16T16:44:36.195580Z"
    }
   },
   "outputs": [],
   "source": [
    "best_rfc = pickle.load(open('GridSearchCV-rfc.sav', 'rb'))"
   ]
  },
  {
   "cell_type": "markdown",
   "id": "dd0b29ba",
   "metadata": {},
   "source": [
    "## Fit data"
   ]
  },
  {
   "cell_type": "code",
   "execution_count": 26,
   "id": "6c1fb5cc",
   "metadata": {
    "ExecuteTime": {
     "end_time": "2021-12-16T16:44:38.552761Z",
     "start_time": "2021-12-16T16:44:36.679077Z"
    }
   },
   "outputs": [],
   "source": [
    "y_pred_best_rfc = best_rfc.predict(X_test)"
   ]
  },
  {
   "cell_type": "markdown",
   "id": "5a916754",
   "metadata": {},
   "source": [
    "## Print info"
   ]
  },
  {
   "cell_type": "code",
   "execution_count": 27,
   "id": "5990ffc1",
   "metadata": {
    "ExecuteTime": {
     "end_time": "2021-12-16T16:44:38.583518Z",
     "start_time": "2021-12-16T16:44:38.554596Z"
    }
   },
   "outputs": [
    {
     "name": "stdout",
     "output_type": "stream",
     "text": [
      "\n",
      "\n",
      "*** best_RFC ***\n",
      "\n",
      "\n",
      "Classification report:\n",
      "               precision    recall  f1-score   support\n",
      "\n",
      "           0       0.98      0.98      0.98      1270\n",
      "           1       0.98      0.98      0.98      1382\n",
      "           2       0.96      0.96      0.96      1258\n",
      "           3       0.95      0.95      0.95      1259\n",
      "           4       0.97      0.97      0.97      1227\n",
      "           5       0.97      0.96      0.96      1198\n",
      "           6       0.97      0.98      0.98      1237\n",
      "           7       0.97      0.97      0.97      1254\n",
      "           8       0.96      0.95      0.95      1237\n",
      "           9       0.94      0.94      0.94      1278\n",
      "\n",
      "    accuracy                           0.96     12600\n",
      "   macro avg       0.96      0.96      0.96     12600\n",
      "weighted avg       0.96      0.96      0.96     12600\n",
      "\n",
      "Confusion matrix:\n",
      " [[1250    0    1    1    0    2    8    1    7    0]\n",
      " [   0 1358   12    5    2    1    1    1    2    0]\n",
      " [   4    1 1213    9    8    1    5    5   10    2]\n",
      " [   2    0   13 1195    0   16    0   10   14    9]\n",
      " [   3    0    1    0 1191    0    2    3    2   25]\n",
      " [   4    2    0   17    2 1146   12    2    6    7]\n",
      " [   7    2    0    0    3    8 1216    0    1    0]\n",
      " [   2    4   14    2    1    0    0 1213    1   17]\n",
      " [   2    9    9   15    5    5    5    2 1171   14]\n",
      " [   3    5    3   18   21    4    0   11   11 1202]]\n",
      "Accuracy score: 0.9646825396825397\n",
      "Mean absolute error: 0.1334126984126984\n",
      "Mean squared error: 0.6605555555555556\n"
     ]
    }
   ],
   "source": [
    "print_info(\"best_RFC\", best_rfc.best_params_, y_test, y_pred_best_rfc)"
   ]
  },
  {
   "cell_type": "markdown",
   "id": "b25fb280",
   "metadata": {},
   "source": [
    "# SVC hyperparameters"
   ]
  },
  {
   "cell_type": "markdown",
   "id": "5a7fdccc",
   "metadata": {},
   "source": [
    "## Create & Fit & Save model "
   ]
  },
  {
   "cell_type": "code",
   "execution_count": null,
   "id": "f56b57e7",
   "metadata": {
    "ExecuteTime": {
     "end_time": "2021-12-16T09:30:31.020033Z",
     "start_time": "2021-12-16T09:30:31.020033Z"
    }
   },
   "outputs": [],
   "source": [
    "param_grid_svc = {'C': [0.1, 1, 10, 100],\n",
    "                  'gamma': [1, 0.1, 0.01, 0.001],\n",
    "                  'kernel': ['poly']}\n",
    "grid_svc = GridSearchCV(SVC(), param_grid_svc, cv=3, verbose=3,\n",
    "                        n_jobs=-1)\n",
    "grid_svc.fit(X_train, y_train)\n",
    "pickle.dump(grid_svc, open(\"GridSearchCV-svc.sav\", 'wb'))"
   ]
  },
  {
   "cell_type": "markdown",
   "id": "2df5e7d2",
   "metadata": {},
   "source": [
    "## Load model"
   ]
  },
  {
   "cell_type": "code",
   "execution_count": 28,
   "id": "f2d91153",
   "metadata": {
    "ExecuteTime": {
     "end_time": "2021-12-16T16:44:41.109824Z",
     "start_time": "2021-12-16T16:44:41.081349Z"
    }
   },
   "outputs": [],
   "source": [
    "best_svc = pickle.load(open('GridSearchCV-svc.sav', 'rb'))"
   ]
  },
  {
   "cell_type": "markdown",
   "id": "11849dd6",
   "metadata": {},
   "source": [
    "## Fit data"
   ]
  },
  {
   "cell_type": "code",
   "execution_count": 29,
   "id": "ec50ac27",
   "metadata": {
    "ExecuteTime": {
     "end_time": "2021-12-16T16:45:04.466976Z",
     "start_time": "2021-12-16T16:44:41.375840Z"
    }
   },
   "outputs": [],
   "source": [
    "y_pred_best_svc = best_svc.predict(X_test)"
   ]
  },
  {
   "cell_type": "markdown",
   "id": "d5456135",
   "metadata": {},
   "source": [
    "## Print info"
   ]
  },
  {
   "cell_type": "markdown",
   "id": "1351994b",
   "metadata": {
    "ExecuteTime": {
     "end_time": "2021-12-16T16:45:04.513332Z",
     "start_time": "2021-12-16T16:45:04.468842Z"
    }
   },
   "source": [
    "print_info(\"best_SVC\", best_svc.best_params_, y_test, y_pred_best_svc)"
   ]
  },
  {
   "cell_type": "markdown",
   "id": "b6119f8b",
   "metadata": {},
   "source": [
    "# Tensorflow"
   ]
  },
  {
   "cell_type": "code",
   "execution_count": 8,
   "id": "612f05b2",
   "metadata": {
    "ExecuteTime": {
     "end_time": "2022-01-15T08:37:43.069758Z",
     "start_time": "2022-01-15T08:37:43.056259Z"
    }
   },
   "outputs": [],
   "source": [
    "def model_fit(model_name, model):\n",
    "    return model.fit(X_train, y_train,\n",
    "                     batch_size=128,\n",
    "                     epochs=50,\n",
    "                     verbose=1,\n",
    "                     shuffle=True,\n",
    "                     validation_data=(X_test, y_test),\n",
    "                     callbacks=[\n",
    "                         TensorBoard(log_dir=\"logs/scalars/\"+model_name),\n",
    "                         tf.keras.callbacks.ModelCheckpoint(\n",
    "                             './models/' + model_name + '{epoch:08d}.h5', period=5)\n",
    "                     ])"
   ]
  },
  {
   "cell_type": "markdown",
   "id": "e5dabc8d",
   "metadata": {},
   "source": [
    "## Model = Simple nn &#8594; Flatten &#8594; 128 &#8594; 128 &#8594; 10"
   ]
  },
  {
   "cell_type": "code",
   "execution_count": 9,
   "id": "40863eba",
   "metadata": {
    "ExecuteTime": {
     "end_time": "2022-01-15T08:37:43.116259Z",
     "start_time": "2022-01-15T08:37:43.072263Z"
    }
   },
   "outputs": [],
   "source": [
    "def simple_model():\n",
    "    model = Sequential()\n",
    "    model.add(Flatten())\n",
    "    model.add(Dense(128, activation=relu))\n",
    "    model.add(Dense(128, activation=relu))\n",
    "    model.add(Dense(10, activation=softmax))\n",
    "\n",
    "    model.compile(optimizer='adam',\n",
    "                  loss='sparse_categorical_crossentropy',\n",
    "                  metrics=['accuracy']\n",
    "                  )\n",
    "    return model"
   ]
  },
  {
   "cell_type": "markdown",
   "id": "4c3a6c08",
   "metadata": {},
   "source": [
    "## Model = <br/> &emsp;&emsp;&emsp;&emsp;Conv2D &#8594; MaxPool2D &#8594;  <br/> &emsp;&emsp;&emsp;&emsp;Conv2D &#8594; MaxPool2D &#8594; <br/> &emsp;&emsp;&emsp;&emsp;Flatten &#8594; Dense (256) &#8594; Dropout (0.5) &#8594; Dense(10)"
   ]
  },
  {
   "cell_type": "code",
   "execution_count": 10,
   "id": "791037bf",
   "metadata": {
    "ExecuteTime": {
     "end_time": "2022-01-15T00:13:56.308912Z",
     "start_time": "2022-01-15T00:13:56.296378Z"
    }
   },
   "outputs": [],
   "source": [
    "def LeNet():\n",
    "    model = Sequential()\n",
    "\n",
    "    model.add(Conv2D(filters=6, kernel_size=(5, 5), padding='same',\n",
    "                     activation=sigmoid, input_shape=(28, 28, 1)))\n",
    "    model.add(MaxPool2D(pool_size=(2, 2)))\n",
    "    model.add(Conv2D(filters=16, kernel_size=(5, 5), activation=sigmoid))\n",
    "    model.add(MaxPool2D(pool_size=(2, 2)))\n",
    "\n",
    "    model.add(Flatten())\n",
    "    model.add(Dense(120, activation=sigmoid))\n",
    "    model.add(Dense(84, activation=relu))\n",
    "    model.add(Dense(10, activation=softmax))\n",
    "\n",
    "    model.compile(\n",
    "        optimizer='adam',\n",
    "        loss='sparse_categorical_crossentropy',\n",
    "        metrics=['accuracy'])\n",
    "\n",
    "    return model"
   ]
  },
  {
   "cell_type": "markdown",
   "id": "b5cc3514",
   "metadata": {},
   "source": [
    "## Model = <br/> &emsp;&emsp;&emsp;&emsp;Conv2D &#8594; BatchNormalization &#8594; MaxPool2D &#8594;  <br/> &emsp;&emsp;&emsp;&emsp;Conv2D &#8594; BatchNormalization &#8594; MaxPool2D &#8594; <br/> &emsp;&emsp;&emsp;&emsp;Conv2D &#8594; Conv2D &#8594; Conv2D &#8594; <br/> &emsp;&emsp;&emsp;&emsp;BatchNormalization &#8594; MaxPool2D &#8594;<br/> &emsp;&emsp;&emsp;&emsp;Flatten &#8594;Dense (4096) &#8594; Dense (4096) &#8594; Dense(10)"
   ]
  },
  {
   "cell_type": "code",
   "execution_count": 10,
   "id": "bef009c8",
   "metadata": {
    "ExecuteTime": {
     "end_time": "2022-01-15T08:37:43.147258Z",
     "start_time": "2022-01-15T08:37:43.118258Z"
    }
   },
   "outputs": [],
   "source": [
    "def AlexNet():\n",
    "    model = Sequential()\n",
    "    model.add(Conv2D(96, (11, 11), input_shape=(28, 28, 1), activation='relu'))\n",
    "    model.add(BatchNormalization())\n",
    "    model.add(MaxPool2D(3, strides=2))\n",
    "    model.add(Conv2D(256, 5, padding='same', activation='relu'))\n",
    "    model.add(BatchNormalization())\n",
    "    model.add(MaxPool2D(3, strides=2))\n",
    "    model.add(Conv2D(384, 3, strides=1, padding='same', activation='relu'))\n",
    "    model.add(Conv2D(384, 3, strides=1, padding='same', activation='relu'))\n",
    "    model.add(Conv2D(256, 3, strides=1, padding='same', activation='relu'))\n",
    "    model.add(BatchNormalization())\n",
    "    model.add(MaxPool2D(3, strides=2))\n",
    "    model.add(Flatten())\n",
    "    model.add(Dense(4096, activation='relu'))\n",
    "    model.add(Dense(4096, activation='relu'))\n",
    "    model.add(Dense(units=10, activation='softmax'))\n",
    "\n",
    "    model.compile(loss='categorical_crossentropy',\n",
    "                  optimizer='adam', metrics=['accuracy'])\n",
    "    return model"
   ]
  },
  {
   "cell_type": "code",
   "execution_count": 12,
   "id": "7d06a75e",
   "metadata": {
    "ExecuteTime": {
     "end_time": "2022-01-15T00:09:25.872285Z",
     "start_time": "2022-01-15T00:08:31.899872Z"
    }
   },
   "outputs": [
    {
     "name": "stdout",
     "output_type": "stream",
     "text": [
      "WARNING:tensorflow:`period` argument is deprecated. Please use `save_freq` to specify the frequency in number of batches seen.\n",
      "Epoch 1/50\n",
      "263/263 [==============================] - 2s 4ms/step - loss: 0.6706 - accuracy: 0.8223 - val_loss: 0.3182 - val_accuracy: 0.9032\n",
      "Epoch 2/50\n",
      "263/263 [==============================] - 1s 4ms/step - loss: 0.2644 - accuracy: 0.9220 - val_loss: 0.2319 - val_accuracy: 0.9306\n",
      "Epoch 3/50\n",
      "263/263 [==============================] - 1s 4ms/step - loss: 0.2045 - accuracy: 0.9399 - val_loss: 0.1867 - val_accuracy: 0.9437\n",
      "Epoch 4/50\n",
      "263/263 [==============================] - 1s 4ms/step - loss: 0.1668 - accuracy: 0.9501 - val_loss: 0.1664 - val_accuracy: 0.9483\n",
      "Epoch 5/50\n",
      "263/263 [==============================] - 1s 4ms/step - loss: 0.1420 - accuracy: 0.9574 - val_loss: 0.1455 - val_accuracy: 0.9548\n",
      "Epoch 6/50\n",
      "263/263 [==============================] - 1s 4ms/step - loss: 0.1207 - accuracy: 0.9655 - val_loss: 0.1471 - val_accuracy: 0.9552\n",
      "Epoch 7/50\n",
      "263/263 [==============================] - 1s 4ms/step - loss: 0.1051 - accuracy: 0.9693 - val_loss: 0.1280 - val_accuracy: 0.9604\n",
      "Epoch 8/50\n",
      "263/263 [==============================] - 1s 4ms/step - loss: 0.0909 - accuracy: 0.9728 - val_loss: 0.1256 - val_accuracy: 0.9612\n",
      "Epoch 9/50\n",
      "263/263 [==============================] - 1s 4ms/step - loss: 0.0797 - accuracy: 0.9762 - val_loss: 0.1134 - val_accuracy: 0.9667\n",
      "Epoch 10/50\n",
      "263/263 [==============================] - 1s 4ms/step - loss: 0.0694 - accuracy: 0.9802 - val_loss: 0.1125 - val_accuracy: 0.9650\n",
      "Epoch 11/50\n",
      "263/263 [==============================] - 1s 4ms/step - loss: 0.0608 - accuracy: 0.9817 - val_loss: 0.1043 - val_accuracy: 0.9668\n",
      "Epoch 12/50\n",
      "263/263 [==============================] - 1s 4ms/step - loss: 0.0543 - accuracy: 0.9839 - val_loss: 0.1031 - val_accuracy: 0.9673\n",
      "Epoch 13/50\n",
      "263/263 [==============================] - 1s 4ms/step - loss: 0.0470 - accuracy: 0.9871 - val_loss: 0.1072 - val_accuracy: 0.9671\n",
      "Epoch 14/50\n",
      "263/263 [==============================] - 1s 4ms/step - loss: 0.0411 - accuracy: 0.9882 - val_loss: 0.1029 - val_accuracy: 0.9687\n",
      "Epoch 15/50\n",
      "263/263 [==============================] - 1s 4ms/step - loss: 0.0353 - accuracy: 0.9905 - val_loss: 0.1041 - val_accuracy: 0.9695\n",
      "Epoch 16/50\n",
      "263/263 [==============================] - 1s 4ms/step - loss: 0.0312 - accuracy: 0.9916 - val_loss: 0.1091 - val_accuracy: 0.9689\n",
      "Epoch 17/50\n",
      "263/263 [==============================] - 1s 4ms/step - loss: 0.0270 - accuracy: 0.9932 - val_loss: 0.0975 - val_accuracy: 0.9718\n",
      "Epoch 18/50\n",
      "263/263 [==============================] - 1s 4ms/step - loss: 0.0232 - accuracy: 0.9938 - val_loss: 0.1066 - val_accuracy: 0.9698\n",
      "Epoch 19/50\n",
      "263/263 [==============================] - 1s 4ms/step - loss: 0.0199 - accuracy: 0.9948 - val_loss: 0.1069 - val_accuracy: 0.9704\n",
      "Epoch 20/50\n",
      "263/263 [==============================] - 1s 4ms/step - loss: 0.0168 - accuracy: 0.9959 - val_loss: 0.1037 - val_accuracy: 0.9693\n",
      "Epoch 21/50\n",
      "263/263 [==============================] - 1s 4ms/step - loss: 0.0157 - accuracy: 0.9960 - val_loss: 0.1056 - val_accuracy: 0.9708\n",
      "Epoch 22/50\n",
      "263/263 [==============================] - 1s 4ms/step - loss: 0.0131 - accuracy: 0.9970 - val_loss: 0.1116 - val_accuracy: 0.9702\n",
      "Epoch 23/50\n",
      "263/263 [==============================] - 1s 4ms/step - loss: 0.0110 - accuracy: 0.9979 - val_loss: 0.1089 - val_accuracy: 0.9714\n",
      "Epoch 24/50\n",
      "263/263 [==============================] - 1s 4ms/step - loss: 0.0089 - accuracy: 0.9983 - val_loss: 0.1107 - val_accuracy: 0.9711\n",
      "Epoch 25/50\n",
      "263/263 [==============================] - 1s 4ms/step - loss: 0.0073 - accuracy: 0.9990 - val_loss: 0.1168 - val_accuracy: 0.9707\n",
      "Epoch 26/50\n",
      "263/263 [==============================] - 1s 4ms/step - loss: 0.0066 - accuracy: 0.9991 - val_loss: 0.1170 - val_accuracy: 0.9712\n",
      "Epoch 27/50\n",
      "263/263 [==============================] - 1s 4ms/step - loss: 0.0065 - accuracy: 0.9990 - val_loss: 0.1147 - val_accuracy: 0.9726\n",
      "Epoch 28/50\n",
      "263/263 [==============================] - 1s 4ms/step - loss: 0.0060 - accuracy: 0.9990 - val_loss: 0.1205 - val_accuracy: 0.9721\n",
      "Epoch 29/50\n",
      "263/263 [==============================] - 1s 4ms/step - loss: 0.0046 - accuracy: 0.9994 - val_loss: 0.1214 - val_accuracy: 0.9715\n",
      "Epoch 30/50\n",
      "263/263 [==============================] - 1s 4ms/step - loss: 0.0041 - accuracy: 0.9993 - val_loss: 0.1312 - val_accuracy: 0.9713\n",
      "Epoch 31/50\n",
      "263/263 [==============================] - 1s 4ms/step - loss: 0.0046 - accuracy: 0.9991 - val_loss: 0.1293 - val_accuracy: 0.9717\n",
      "Epoch 32/50\n",
      "263/263 [==============================] - 1s 4ms/step - loss: 0.0026 - accuracy: 0.9997 - val_loss: 0.1275 - val_accuracy: 0.9725\n",
      "Epoch 33/50\n",
      "263/263 [==============================] - 1s 4ms/step - loss: 0.0021 - accuracy: 0.9998 - val_loss: 0.1359 - val_accuracy: 0.9702\n",
      "Epoch 34/50\n",
      "263/263 [==============================] - 1s 4ms/step - loss: 0.0017 - accuracy: 0.9999 - val_loss: 0.1358 - val_accuracy: 0.9721\n",
      "Epoch 35/50\n",
      "263/263 [==============================] - 1s 4ms/step - loss: 0.0023 - accuracy: 0.9998 - val_loss: 0.1377 - val_accuracy: 0.9726\n",
      "Epoch 36/50\n",
      "263/263 [==============================] - 1s 4ms/step - loss: 0.0105 - accuracy: 0.9967 - val_loss: 0.1696 - val_accuracy: 0.9660\n",
      "Epoch 37/50\n",
      "263/263 [==============================] - 1s 4ms/step - loss: 0.0062 - accuracy: 0.9980 - val_loss: 0.1402 - val_accuracy: 0.9701\n",
      "Epoch 38/50\n",
      "263/263 [==============================] - 1s 4ms/step - loss: 0.0014 - accuracy: 0.9999 - val_loss: 0.1355 - val_accuracy: 0.9733\n",
      "Epoch 39/50\n",
      "263/263 [==============================] - 1s 4ms/step - loss: 7.0659e-04 - accuracy: 1.0000 - val_loss: 0.1376 - val_accuracy: 0.9737\n",
      "Epoch 40/50\n",
      "263/263 [==============================] - 1s 4ms/step - loss: 5.3908e-04 - accuracy: 1.0000 - val_loss: 0.1406 - val_accuracy: 0.9729\n",
      "Epoch 41/50\n",
      "263/263 [==============================] - 1s 4ms/step - loss: 4.4538e-04 - accuracy: 1.0000 - val_loss: 0.1400 - val_accuracy: 0.9735\n",
      "Epoch 42/50\n",
      "263/263 [==============================] - 1s 4ms/step - loss: 3.9512e-04 - accuracy: 1.0000 - val_loss: 0.1405 - val_accuracy: 0.9738\n",
      "Epoch 43/50\n",
      "263/263 [==============================] - 1s 4ms/step - loss: 3.5148e-04 - accuracy: 1.0000 - val_loss: 0.1421 - val_accuracy: 0.9733\n",
      "Epoch 44/50\n",
      "263/263 [==============================] - 1s 4ms/step - loss: 3.1827e-04 - accuracy: 1.0000 - val_loss: 0.1433 - val_accuracy: 0.9739\n",
      "Epoch 45/50\n",
      "263/263 [==============================] - 1s 4ms/step - loss: 2.9321e-04 - accuracy: 1.0000 - val_loss: 0.1442 - val_accuracy: 0.9730\n",
      "Epoch 46/50\n",
      "263/263 [==============================] - 1s 4ms/step - loss: 2.7102e-04 - accuracy: 1.0000 - val_loss: 0.1473 - val_accuracy: 0.9739\n",
      "Epoch 47/50\n",
      "263/263 [==============================] - 1s 4ms/step - loss: 2.3197e-04 - accuracy: 1.0000 - val_loss: 0.1480 - val_accuracy: 0.9735\n",
      "Epoch 48/50\n",
      "263/263 [==============================] - 1s 4ms/step - loss: 2.1431e-04 - accuracy: 1.0000 - val_loss: 0.1500 - val_accuracy: 0.9739\n",
      "Epoch 49/50\n",
      "263/263 [==============================] - 1s 4ms/step - loss: 1.9203e-04 - accuracy: 1.0000 - val_loss: 0.1512 - val_accuracy: 0.9742\n",
      "Epoch 50/50\n",
      "263/263 [==============================] - 1s 4ms/step - loss: 1.7865e-04 - accuracy: 1.0000 - val_loss: 0.1535 - val_accuracy: 0.9735\n"
     ]
    },
    {
     "data": {
      "text/plain": [
       "<keras.callbacks.History at 0x1d7ec16da30>"
      ]
     },
     "execution_count": 12,
     "metadata": {},
     "output_type": "execute_result"
    }
   ],
   "source": [
    "model_fit('simple_model', simple_model())"
   ]
  },
  {
   "cell_type": "markdown",
   "id": "a561e198",
   "metadata": {},
   "source": [
    "## One-hot Encoding:\n"
   ]
  },
  {
   "cell_type": "code",
   "execution_count": 11,
   "id": "5f7d3644",
   "metadata": {
    "ExecuteTime": {
     "end_time": "2022-01-15T08:37:57.783785Z",
     "start_time": "2022-01-15T08:37:55.452640Z"
    }
   },
   "outputs": [],
   "source": [
    "X_train = np.array([X_train.iloc[_].values.reshape(28, 28)\n",
    "                   for _ in range(len(X_train))])\n",
    "X_test = np.array([X_test.iloc[_].values.reshape(28, 28)\n",
    "                  for _ in range(len(X_test))])"
   ]
  },
  {
   "cell_type": "code",
   "execution_count": 13,
   "id": "71242da4",
   "metadata": {
    "ExecuteTime": {
     "end_time": "2022-01-15T00:12:28.199911Z",
     "start_time": "2022-01-15T00:10:35.539892Z"
    }
   },
   "outputs": [
    {
     "name": "stdout",
     "output_type": "stream",
     "text": [
      "WARNING:tensorflow:`period` argument is deprecated. Please use `save_freq` to specify the frequency in number of batches seen.\n",
      "Epoch 1/50\n",
      "263/263 [==============================] - 4s 8ms/step - loss: 2.3075 - accuracy: 0.1070 - val_loss: 2.3043 - val_accuracy: 0.0977\n",
      "Epoch 2/50\n",
      "263/263 [==============================] - 2s 8ms/step - loss: 1.8211 - accuracy: 0.3689 - val_loss: 0.7099 - val_accuracy: 0.7689\n",
      "Epoch 3/50\n",
      "263/263 [==============================] - 2s 8ms/step - loss: 0.4841 - accuracy: 0.8551 - val_loss: 0.3548 - val_accuracy: 0.8883174 \n",
      "Epoch 4/50\n",
      "263/263 [==============================] - 2s 8ms/step - loss: 0.3083 - accuracy: 0.9050 - val_loss: 0.2540 - val_accuracy: 0.9244\n",
      "Epoch 5/50\n",
      "263/263 [==============================] - 2s 8ms/step - loss: 0.2409 - accuracy: 0.9254 - val_loss: 0.2193 - val_accuracy: 0.9290\n",
      "Epoch 6/50\n",
      "263/263 [==============================] - 2s 8ms/step - loss: 0.2005 - accuracy: 0.9370 - val_loss: 0.1918 - val_accuracy: 0.9407\n",
      "Epoch 7/50\n",
      "263/263 [==============================] - 2s 8ms/step - loss: 0.1693 - accuracy: 0.9470 - val_loss: 0.1828 - val_accuracy: 0.9425\n",
      "Epoch 8/50\n",
      "263/263 [==============================] - 2s 8ms/step - loss: 0.1495 - accuracy: 0.9538 - val_loss: 0.1383 - val_accuracy: 0.9574\n",
      "Epoch 9/50\n",
      "263/263 [==============================] - 2s 8ms/step - loss: 0.1314 - accuracy: 0.9588 - val_loss: 0.1379 - val_accuracy: 0.9575\n",
      "Epoch 10/50\n",
      "263/263 [==============================] - 2s 8ms/step - loss: 0.1196 - accuracy: 0.9618 - val_loss: 0.1245 - val_accuracy: 0.9599 l\n",
      "Epoch 11/50\n",
      "263/263 [==============================] - 2s 9ms/step - loss: 0.1098 - accuracy: 0.9652 - val_loss: 0.1110 - val_accuracy: 0.9655\n",
      "Epoch 12/50\n",
      "263/263 [==============================] - 2s 8ms/step - loss: 0.1002 - accuracy: 0.9685 - val_loss: 0.1167 - val_accuracy: 0.9631\n",
      "Epoch 13/50\n",
      "263/263 [==============================] - 2s 9ms/step - loss: 0.0920 - accuracy: 0.9708 - val_loss: 0.1009 - val_accuracy: 0.9696\n",
      "Epoch 14/50\n",
      "263/263 [==============================] - 2s 8ms/step - loss: 0.0874 - accuracy: 0.9724 - val_loss: 0.1068 - val_accuracy: 0.9639\n",
      "Epoch 15/50\n",
      "263/263 [==============================] - 2s 9ms/step - loss: 0.0806 - accuracy: 0.9749 - val_loss: 0.0888 - val_accuracy: 0.9705\n",
      "Epoch 16/50\n",
      "263/263 [==============================] - 2s 9ms/step - loss: 0.0759 - accuracy: 0.9759 - val_loss: 0.0950 - val_accuracy: 0.9683\n",
      "Epoch 17/50\n",
      "263/263 [==============================] - 2s 8ms/step - loss: 0.0716 - accuracy: 0.9773 - val_loss: 0.0827 - val_accuracy: 0.9749\n",
      "Epoch 18/50\n",
      "263/263 [==============================] - 2s 9ms/step - loss: 0.0656 - accuracy: 0.9791 - val_loss: 0.0773 - val_accuracy: 0.9752\n",
      "Epoch 19/50\n",
      "263/263 [==============================] - 2s 9ms/step - loss: 0.0625 - accuracy: 0.9799 - val_loss: 0.0800 - val_accuracy: 0.9751\n",
      "Epoch 20/50\n",
      "263/263 [==============================] - 2s 9ms/step - loss: 0.0604 - accuracy: 0.9806 - val_loss: 0.0822 - val_accuracy: 0.9738\n",
      "Epoch 21/50\n",
      "263/263 [==============================] - 2s 9ms/step - loss: 0.0553 - accuracy: 0.9824 - val_loss: 0.0859 - val_accuracy: 0.9730\n",
      "Epoch 22/50\n",
      "263/263 [==============================] - 2s 8ms/step - loss: 0.0522 - accuracy: 0.9835 - val_loss: 0.0733 - val_accuracy: 0.9773\n",
      "Epoch 23/50\n",
      "263/263 [==============================] - 2s 8ms/step - loss: 0.0503 - accuracy: 0.9840 - val_loss: 0.0687 - val_accuracy: 0.9777\n",
      "Epoch 24/50\n",
      "263/263 [==============================] - 2s 9ms/step - loss: 0.0466 - accuracy: 0.9853 - val_loss: 0.0660 - val_accuracy: 0.9800\n",
      "Epoch 25/50\n",
      "263/263 [==============================] - 2s 8ms/step - loss: 0.0461 - accuracy: 0.9856 - val_loss: 0.0678 - val_accuracy: 0.9799\n",
      "Epoch 26/50\n",
      "263/263 [==============================] - 2s 8ms/step - loss: 0.0424 - accuracy: 0.9869 - val_loss: 0.0672 - val_accuracy: 0.9801\n",
      "Epoch 27/50\n",
      "263/263 [==============================] - 2s 9ms/step - loss: 0.0392 - accuracy: 0.9873 - val_loss: 0.0608 - val_accuracy: 0.9806\n",
      "Epoch 28/50\n",
      "263/263 [==============================] - 2s 9ms/step - loss: 0.0371 - accuracy: 0.9878 - val_loss: 0.0629 - val_accuracy: 0.9804\n",
      "Epoch 29/50\n",
      "263/263 [==============================] - 2s 8ms/step - loss: 0.0372 - accuracy: 0.9880 - val_loss: 0.0629 - val_accuracy: 0.9806\n",
      "Epoch 30/50\n",
      "263/263 [==============================] - 2s 9ms/step - loss: 0.0346 - accuracy: 0.9895 - val_loss: 0.0633 - val_accuracy: 0.9821\n",
      "Epoch 31/50\n",
      "263/263 [==============================] - 2s 8ms/step - loss: 0.0331 - accuracy: 0.9893 - val_loss: 0.0615 - val_accuracy: 0.9817\n",
      "Epoch 32/50\n",
      "263/263 [==============================] - 2s 9ms/step - loss: 0.0306 - accuracy: 0.9905 - val_loss: 0.0575 - val_accuracy: 0.9827\n",
      "Epoch 33/50\n",
      "263/263 [==============================] - 2s 9ms/step - loss: 0.0293 - accuracy: 0.9904 - val_loss: 0.0665 - val_accuracy: 0.9798\n",
      "Epoch 34/50\n",
      "263/263 [==============================] - 2s 9ms/step - loss: 0.0274 - accuracy: 0.9917 - val_loss: 0.0640 - val_accuracy: 0.9811\n",
      "Epoch 35/50\n",
      "263/263 [==============================] - 2s 9ms/step - loss: 0.0249 - accuracy: 0.9924 - val_loss: 0.0691 - val_accuracy: 0.9807\n",
      "Epoch 36/50\n",
      "263/263 [==============================] - 2s 8ms/step - loss: 0.0260 - accuracy: 0.9918 - val_loss: 0.0606 - val_accuracy: 0.9819\n",
      "Epoch 37/50\n",
      "263/263 [==============================] - 2s 9ms/step - loss: 0.0238 - accuracy: 0.9925 - val_loss: 0.0655 - val_accuracy: 0.9810\n",
      "Epoch 38/50\n",
      "263/263 [==============================] - 2s 8ms/step - loss: 0.0234 - accuracy: 0.9928 - val_loss: 0.0559 - val_accuracy: 0.9840.0234 - accuracy: 0.99\n",
      "Epoch 39/50\n",
      "263/263 [==============================] - 2s 8ms/step - loss: 0.0204 - accuracy: 0.9934 - val_loss: 0.0552 - val_accuracy: 0.9832\n",
      "Epoch 40/50\n",
      "263/263 [==============================] - 2s 8ms/step - loss: 0.0188 - accuracy: 0.9945 - val_loss: 0.0586 - val_accuracy: 0.9815\n",
      "Epoch 41/50\n",
      "263/263 [==============================] - 2s 8ms/step - loss: 0.0181 - accuracy: 0.9944 - val_loss: 0.0602 - val_accuracy: 0.9832\n",
      "Epoch 42/50\n",
      "263/263 [==============================] - 2s 8ms/step - loss: 0.0204 - accuracy: 0.9934 - val_loss: 0.0624 - val_accuracy: 0.9829\n",
      "Epoch 43/50\n",
      "263/263 [==============================] - 2s 8ms/step - loss: 0.0171 - accuracy: 0.9947 - val_loss: 0.0558 - val_accuracy: 0.9845\n",
      "Epoch 44/50\n",
      "263/263 [==============================] - 2s 8ms/step - loss: 0.0154 - accuracy: 0.9949 - val_loss: 0.0602 - val_accuracy: 0.9831\n",
      "Epoch 45/50\n",
      "263/263 [==============================] - 2s 8ms/step - loss: 0.0145 - accuracy: 0.9954 - val_loss: 0.0611 - val_accuracy: 0.9835 - loss: 0.0133  - ETA: 0s - loss: 0.0 - ETA: 0s - loss: 0.0142 - \n",
      "Epoch 46/50\n",
      "263/263 [==============================] - 2s 8ms/step - loss: 0.0138 - accuracy: 0.9961 - val_loss: 0.0565 - val_accuracy: 0.9833 0.0139 - accuracy\n",
      "Epoch 47/50\n",
      "263/263 [==============================] - 2s 8ms/step - loss: 0.0126 - accuracy: 0.9962 - val_loss: 0.0557 - val_accuracy: 0.9846\n",
      "Epoch 48/50\n",
      "263/263 [==============================] - 2s 7ms/step - loss: 0.0109 - accuracy: 0.9969 - val_loss: 0.0576 - val_accuracy: 0.9840\n",
      "Epoch 49/50\n",
      "263/263 [==============================] - 1s 6ms/step - loss: 0.0121 - accuracy: 0.9964 - val_loss: 0.0685 - val_accuracy: 0.9807\n",
      "Epoch 50/50\n",
      "263/263 [==============================] - 2s 8ms/step - loss: 0.0090 - accuracy: 0.9976 - val_loss: 0.0592 - val_accuracy: 0.9848\n"
     ]
    },
    {
     "data": {
      "text/plain": [
       "<keras.callbacks.History at 0x1f4287f8eb0>"
      ]
     },
     "execution_count": 13,
     "metadata": {},
     "output_type": "execute_result"
    }
   ],
   "source": [
    "model_fit(\"LeNet\", LeNet())"
   ]
  },
  {
   "cell_type": "code",
   "execution_count": 12,
   "id": "73a414a6",
   "metadata": {
    "ExecuteTime": {
     "end_time": "2022-01-15T08:37:57.799287Z",
     "start_time": "2022-01-15T08:37:57.785127Z"
    }
   },
   "outputs": [],
   "source": [
    "y_train = np_utils.to_categorical(y_train, 10)\n",
    "y_test = np_utils.to_categorical(y_test, 10)"
   ]
  },
  {
   "cell_type": "code",
   "execution_count": 13,
   "id": "17f451e7",
   "metadata": {
    "ExecuteTime": {
     "end_time": "2022-01-15T08:47:25.354476Z",
     "start_time": "2022-01-15T08:37:59.069800Z"
    },
    "scrolled": false
   },
   "outputs": [
    {
     "name": "stdout",
     "output_type": "stream",
     "text": [
      "WARNING:tensorflow:`period` argument is deprecated. Please use `save_freq` to specify the frequency in number of batches seen.\n",
      "Epoch 1/50\n",
      "263/263 [==============================] - 16s 42ms/step - loss: 0.5396 - accuracy: 0.8561 - val_loss: 1.9871 - val_accuracy: 0.5215oss: 2.6272 - accura - ETA: 7s - loss: 2.2349 - accura - ETA: 7s - loss: 1.9130 - accuracy - ETA: 6s - loss: 1.7274 - accuracy: 0. - ETA - ETA - ETA: 4s - loss: 0.8840 - accuracy: 0. - ETA:  - ETA: 2s - loss: 0.7240 - accuracy - ETA: 2s - loss: 0.6986  - ETA: 1s - loss: 0.6504 - accuracy: 0. - ETA: 1s - loss: 0.6405 - accura\n",
      "Epoch 2/50\n",
      "263/263 [==============================] - 11s 42ms/step - loss: 0.0840 - accuracy: 0.9753 - val_loss: 1.0637 - val_accuracy: 0.7790\n",
      "Epoch 3/50\n",
      "263/263 [==============================] - 11s 42ms/step - loss: 0.0597 - accuracy: 0.9826 - val_loss: 0.0858 - val_accuracy: 0.9764\n",
      "Epoch 4/50\n",
      "263/263 [==============================] - 11s 42ms/step - loss: 0.0516 - accuracy: 0.9850 - val_loss: 0.0773 - val_accuracy: 0.9814\n",
      "Epoch 5/50\n",
      "263/263 [==============================] - 12s 45ms/step - loss: 0.0430 - accuracy: 0.9881 - val_loss: 0.0629 - val_accuracy: 0.9836\n",
      "Epoch 6/50\n",
      "263/263 [==============================] - 11s 41ms/step - loss: 0.0321 - accuracy: 0.9910 - val_loss: 0.1671 - val_accuracy: 0.9594\n",
      "Epoch 7/50\n",
      "263/263 [==============================] - 11s 42ms/step - loss: 0.0336 - accuracy: 0.9911 - val_loss: 0.0607 - val_accuracy: 0.9833\n",
      "Epoch 8/50\n",
      "263/263 [==============================] - 11s 42ms/step - loss: 0.0316 - accuracy: 0.9916 - val_loss: 0.0847 - val_accuracy: 0.9777\n",
      "Epoch 9/50\n",
      "263/263 [==============================] - 11s 43ms/step - loss: 0.0339 - accuracy: 0.9915 - val_loss: 0.0921 - val_accuracy: 0.9758\n",
      "Epoch 10/50\n",
      "263/263 [==============================] - 11s 42ms/step - loss: 0.0304 - accuracy: 0.9915 - val_loss: 0.1172 - val_accuracy: 0.97503s - loss: 0.0278 - accura - ETA: 1s - loss: 0 - ETA: 0s - loss: 0.030\n",
      "Epoch 11/50\n",
      "263/263 [==============================] - 11s 43ms/step - loss: 0.0244 - accuracy: 0.9935 - val_loss: 0.1181 - val_accuracy: 0.9743\n",
      "Epoch 12/50\n",
      "263/263 [==============================] - 11s 43ms/step - loss: 0.0229 - accuracy: 0.9936 - val_loss: 0.1376 - val_accuracy: 0.9731\n",
      "Epoch 13/50\n",
      "263/263 [==============================] - 11s 43ms/step - loss: 0.0242 - accuracy: 0.9941 - val_loss: 0.0676 - val_accuracy: 0.9842\n",
      "Epoch 14/50\n",
      "263/263 [==============================] - 11s 43ms/step - loss: 0.0212 - accuracy: 0.9946 - val_loss: 0.0764 - val_accuracy: 0.9837\n",
      "Epoch 15/50\n",
      "263/263 [==============================] - 11s 41ms/step - loss: 0.0215 - accuracy: 0.9942 - val_loss: 0.0640 - val_accuracy: 0.98525 \n",
      "Epoch 16/50\n",
      "263/263 [==============================] - 10s 39ms/step - loss: 0.0167 - accuracy: 0.9954 - val_loss: 0.0711 - val_accuracy: 0.9869\n",
      "Epoch 17/50\n",
      "263/263 [==============================] - 11s 43ms/step - loss: 0.0316 - accuracy: 0.9926 - val_loss: 0.0645 - val_accuracy: 0.9869\n",
      "Epoch 18/50\n",
      "263/263 [==============================] - 11s 43ms/step - loss: 0.0173 - accuracy: 0.9957 - val_loss: 0.0981 - val_accuracy: 0.9802\n",
      "Epoch 19/50\n",
      "263/263 [==============================] - 11s 43ms/step - loss: 0.0115 - accuracy: 0.9971 - val_loss: 0.0565 - val_accuracy: 0.9881\n",
      "Epoch 20/50\n",
      "263/263 [==============================] - 12s 45ms/step - loss: 0.0096 - accuracy: 0.9974 - val_loss: 0.0586 - val_accuracy: 0.9885\n",
      "Epoch 21/50\n",
      "263/263 [==============================] - 10s 38ms/step - loss: 0.0106 - accuracy: 0.9973 - val_loss: 0.0709 - val_accuracy: 0.9899oss: 0.0123 - ac - ETA: 0s - loss: 0.0107 - \n",
      "Epoch 22/50\n",
      "263/263 [==============================] - 11s 42ms/step - loss: 0.0158 - accuracy: 0.9962 - val_loss: 0.0676 - val_accuracy: 0.9855\n",
      "Epoch 23/50\n",
      "263/263 [==============================] - 11s 43ms/step - loss: 0.0242 - accuracy: 0.9949 - val_loss: 0.0919 - val_accuracy: 0.9776\n",
      "Epoch 24/50\n",
      "263/263 [==============================] - 11s 43ms/step - loss: 0.0207 - accuracy: 0.9955 - val_loss: 0.0566 - val_accuracy: 0.9879\n",
      "Epoch 25/50\n",
      "263/263 [==============================] - 12s 45ms/step - loss: 0.0081 - accuracy: 0.9978 - val_loss: 0.0675 - val_accuracy: 0.9880\n",
      "Epoch 26/50\n",
      "263/263 [==============================] - 11s 41ms/step - loss: 0.0097 - accuracy: 0.9974 - val_loss: 0.0517 - val_accuracy: 0.9882\n",
      "Epoch 27/50\n",
      "263/263 [==============================] - 11s 43ms/step - loss: 0.0068 - accuracy: 0.9986 - val_loss: 0.0454 - val_accuracy: 0.9915\n",
      "Epoch 28/50\n",
      "263/263 [==============================] - 11s 43ms/step - loss: 0.0081 - accuracy: 0.9979 - val_loss: 0.0512 - val_accuracy: 0.9894\n",
      "Epoch 29/50\n",
      "263/263 [==============================] - 11s 43ms/step - loss: 0.0049 - accuracy: 0.9986 - val_loss: 0.0550 - val_accuracy: 0.9896\n",
      "Epoch 30/50\n",
      "263/263 [==============================] - 11s 44ms/step - loss: 0.0143 - accuracy: 0.9972 - val_loss: 0.2321 - val_accuracy: 0.9614\n",
      "Epoch 31/50\n",
      "263/263 [==============================] - 10s 37ms/step - loss: 0.0149 - accuracy: 0.9966 - val_loss: 0.0886 - val_accuracy: 0.9845\n",
      "Epoch 32/50\n",
      "263/263 [==============================] - 11s 43ms/step - loss: 0.0075 - accuracy: 0.9980 - val_loss: 0.0731 - val_accuracy: 0.9908\n",
      "Epoch 33/50\n",
      "263/263 [==============================] - 11s 43ms/step - loss: 0.0072 - accuracy: 0.9984 - val_loss: 0.0957 - val_accuracy: 0.9858\n",
      "Epoch 34/50\n",
      "263/263 [==============================] - 11s 43ms/step - loss: 0.0103 - accuracy: 0.9974 - val_loss: 0.0928 - val_accuracy: 0.9830\n",
      "Epoch 35/50\n",
      "263/263 [==============================] - 12s 46ms/step - loss: 0.0187 - accuracy: 0.9969 - val_loss: 0.0595 - val_accuracy: 0.9879\n",
      "Epoch 36/50\n",
      "263/263 [==============================] - 10s 38ms/step - loss: 0.0122 - accuracy: 0.9971 - val_loss: 0.0553 - val_accuracy: 0.9888\n",
      "Epoch 37/50\n",
      "263/263 [==============================] - 10s 38ms/step - loss: 0.0112 - accuracy: 0.9978 - val_loss: 0.0490 - val_accuracy: 0.9900 - loss: 0.0098 \n",
      "Epoch 38/50\n",
      "263/263 [==============================] - 11s 43ms/step - loss: 0.0063 - accuracy: 0.9980 - val_loss: 0.0858 - val_accuracy: 0.9881\n",
      "Epoch 39/50\n",
      "263/263 [==============================] - 11s 43ms/step - loss: 0.0052 - accuracy: 0.9990 - val_loss: 0.0715 - val_accuracy: 0.9889\n",
      "Epoch 40/50\n",
      "263/263 [==============================] - 12s 46ms/step - loss: 0.0057 - accuracy: 0.9987 - val_loss: 0.0592 - val_accuracy: 0.9907\n",
      "Epoch 41/50\n",
      "263/263 [==============================] - 11s 43ms/step - loss: 0.0037 - accuracy: 0.9991 - val_loss: 0.0562 - val_accuracy: 0.9920\n",
      "Epoch 42/50\n",
      "263/263 [==============================] - 10s 38ms/step - loss: 0.0020 - accuracy: 0.9994 - val_loss: 0.0828 - val_accuracy: 0.9881 - ETA: 2s - loss: 0.0015 - accuracy: 0. - ETA: 2s -\n",
      "Epoch 43/50\n",
      "263/263 [==============================] - 11s 42ms/step - loss: 0.0165 - accuracy: 0.9968 - val_loss: 0.0615 - val_accuracy: 0.9861\n",
      "Epoch 44/50\n",
      "263/263 [==============================] - 11s 43ms/step - loss: 0.0121 - accuracy: 0.9978 - val_loss: 0.0779 - val_accuracy: 0.9892\n",
      "Epoch 45/50\n",
      "263/263 [==============================] - 12s 46ms/step - loss: 0.0072 - accuracy: 0.9985 - val_loss: 0.0600 - val_accuracy: 0.9904\n",
      "Epoch 46/50\n",
      "263/263 [==============================] - 11s 43ms/step - loss: 0.0043 - accuracy: 0.9991 - val_loss: 0.0880 - val_accuracy: 0.9870\n",
      "Epoch 47/50\n",
      "263/263 [==============================] - 11s 41ms/step - loss: 0.0030 - accuracy: 0.9993 - val_loss: 0.0614 - val_accuracy: 0.9926\n",
      "Epoch 48/50\n",
      "263/263 [==============================] - 11s 43ms/step - loss: 0.0047 - accuracy: 0.9988 - val_loss: 0.0909 - val_accuracy: 0.9882\n",
      "Epoch 49/50\n",
      "263/263 [==============================] - 11s 43ms/step - loss: 0.0086 - accuracy: 0.9979 - val_loss: 0.0502 - val_accuracy: 0.9899\n",
      "Epoch 50/50\n",
      "263/263 [==============================] - 12s 46ms/step - loss: 0.0035 - accuracy: 0.9992 - val_loss: 0.0646 - val_accuracy: 0.9915\n"
     ]
    },
    {
     "data": {
      "text/plain": [
       "<keras.callbacks.History at 0x21376113b50>"
      ]
     },
     "execution_count": 13,
     "metadata": {},
     "output_type": "execute_result"
    }
   ],
   "source": [
    "model_fit(\"AlexNet\", AlexNet())"
   ]
  },
  {
   "cell_type": "code",
   "execution_count": 5,
   "id": "90ed49f7",
   "metadata": {
    "ExecuteTime": {
     "end_time": "2022-01-19T10:09:02.660792Z",
     "start_time": "2022-01-19T10:08:55.947217Z"
    }
   },
   "outputs": [
    {
     "data": {
      "text/html": [
       "\n",
       "      <iframe id=\"tensorboard-frame-90bb5ae5c6fc516b\" width=\"100%\" height=\"800\" frameborder=\"0\">\n",
       "      </iframe>\n",
       "      <script>\n",
       "        (function() {\n",
       "          const frame = document.getElementById(\"tensorboard-frame-90bb5ae5c6fc516b\");\n",
       "          const url = new URL(\"/\", window.location);\n",
       "          const port = 6006;\n",
       "          if (port) {\n",
       "            url.port = port;\n",
       "          }\n",
       "          frame.src = url;\n",
       "        })();\n",
       "      </script>\n",
       "    "
      ],
      "text/plain": [
       "<IPython.core.display.HTML object>"
      ]
     },
     "metadata": {},
     "output_type": "display_data"
    }
   ],
   "source": [
    "%tensorboard --logdir logs"
   ]
  },
  {
   "cell_type": "markdown",
   "id": "7b0956ff",
   "metadata": {},
   "source": [
    "# Load AlexNet for 50 more epochs"
   ]
  },
  {
   "cell_type": "code",
   "execution_count": 47,
   "id": "75a7c18a",
   "metadata": {
    "ExecuteTime": {
     "end_time": "2022-01-15T09:08:53.402662Z",
     "start_time": "2022-01-15T09:08:52.971163Z"
    }
   },
   "outputs": [],
   "source": [
    "load_model_AlexNet = tf.keras.models.load_model('./models/AlexNet00000050.h5')"
   ]
  },
  {
   "cell_type": "code",
   "execution_count": 48,
   "id": "3777c682",
   "metadata": {
    "ExecuteTime": {
     "end_time": "2022-01-15T09:08:55.066424Z",
     "start_time": "2022-01-15T09:08:55.056923Z"
    }
   },
   "outputs": [
    {
     "name": "stdout",
     "output_type": "stream",
     "text": [
      "Model: \"sequential\"\n",
      "_________________________________________________________________\n",
      " Layer (type)                Output Shape              Param #   \n",
      "=================================================================\n",
      " conv2d (Conv2D)             (None, 18, 18, 96)        11712     \n",
      "                                                                 \n",
      " batch_normalization (BatchN  (None, 18, 18, 96)       384       \n",
      " ormalization)                                                   \n",
      "                                                                 \n",
      " max_pooling2d (MaxPooling2D  (None, 8, 8, 96)         0         \n",
      " )                                                               \n",
      "                                                                 \n",
      " conv2d_1 (Conv2D)           (None, 8, 8, 256)         614656    \n",
      "                                                                 \n",
      " batch_normalization_1 (Batc  (None, 8, 8, 256)        1024      \n",
      " hNormalization)                                                 \n",
      "                                                                 \n",
      " max_pooling2d_1 (MaxPooling  (None, 3, 3, 256)        0         \n",
      " 2D)                                                             \n",
      "                                                                 \n",
      " conv2d_2 (Conv2D)           (None, 3, 3, 384)         885120    \n",
      "                                                                 \n",
      " conv2d_3 (Conv2D)           (None, 3, 3, 384)         1327488   \n",
      "                                                                 \n",
      " conv2d_4 (Conv2D)           (None, 3, 3, 256)         884992    \n",
      "                                                                 \n",
      " batch_normalization_2 (Batc  (None, 3, 3, 256)        1024      \n",
      " hNormalization)                                                 \n",
      "                                                                 \n",
      " max_pooling2d_2 (MaxPooling  (None, 1, 1, 256)        0         \n",
      " 2D)                                                             \n",
      "                                                                 \n",
      " flatten (Flatten)           (None, 256)               0         \n",
      "                                                                 \n",
      " dense (Dense)               (None, 4096)              1052672   \n",
      "                                                                 \n",
      " dense_1 (Dense)             (None, 4096)              16781312  \n",
      "                                                                 \n",
      " dense_2 (Dense)             (None, 10)                40970     \n",
      "                                                                 \n",
      "=================================================================\n",
      "Total params: 21,601,354\n",
      "Trainable params: 21,600,138\n",
      "Non-trainable params: 1,216\n",
      "_________________________________________________________________\n"
     ]
    }
   ],
   "source": [
    "load_model_AlexNet.summary()"
   ]
  },
  {
   "cell_type": "code",
   "execution_count": 50,
   "id": "d5003dde",
   "metadata": {
    "ExecuteTime": {
     "end_time": "2022-01-15T09:18:11.011891Z",
     "start_time": "2022-01-15T09:09:12.191202Z"
    }
   },
   "outputs": [
    {
     "name": "stdout",
     "output_type": "stream",
     "text": [
      "WARNING:tensorflow:`period` argument is deprecated. Please use `save_freq` to specify the frequency in number of batches seen.\n",
      "Epoch 1/50\n",
      "263/263 [==============================] - 11s 39ms/step - loss: 0.0074 - accuracy: 0.9985 - val_loss: 0.0848 - val_accuracy: 0.9882\n",
      "Epoch 2/50\n",
      "263/263 [==============================] - 10s 37ms/step - loss: 0.0373 - accuracy: 0.9972 - val_loss: 0.1275 - val_accuracy: 0.9807: 0s - loss: 0.0380 - ac\n",
      "Epoch 3/50\n",
      "263/263 [==============================] - 11s 43ms/step - loss: 0.0114 - accuracy: 0.9976 - val_loss: 0.0515 - val_accuracy: 0.9895\n",
      "Epoch 4/50\n",
      "263/263 [==============================] - 11s 43ms/step - loss: 0.0034 - accuracy: 0.9990 - val_loss: 0.0648 - val_accuracy: 0.9888\n",
      "Epoch 5/50\n",
      "263/263 [==============================] - 12s 45ms/step - loss: 7.4679e-04 - accuracy: 0.9998 - val_loss: 0.0559 - val_accuracy: 0.9924\n",
      "Epoch 6/50\n",
      "263/263 [==============================] - 11s 43ms/step - loss: 2.6059e-04 - accuracy: 0.9999 - val_loss: 0.0685 - val_accuracy: 0.9915\n",
      "Epoch 7/50\n",
      "263/263 [==============================] - 10s 38ms/step - loss: 0.0037 - accuracy: 0.9992 - val_loss: 0.0557 - val_accuracy: 0.9919\n",
      "Epoch 8/50\n",
      "263/263 [==============================] - 11s 43ms/step - loss: 0.0024 - accuracy: 0.9992 - val_loss: 0.0611 - val_accuracy: 0.9898\n",
      "Epoch 9/50\n",
      "263/263 [==============================] - 11s 43ms/step - loss: 0.0031 - accuracy: 0.9993 - val_loss: 0.0503 - val_accuracy: 0.9917\n",
      "Epoch 10/50\n",
      "263/263 [==============================] - 12s 45ms/step - loss: 1.3992e-04 - accuracy: 1.0000 - val_loss: 0.0637 - val_accuracy: 0.9927\n",
      "Epoch 11/50\n",
      "263/263 [==============================] - 11s 43ms/step - loss: 0.0071 - accuracy: 0.9985 - val_loss: 0.0910 - val_accuracy: 0.9874\n",
      "Epoch 12/50\n",
      "263/263 [==============================] - 10s 38ms/step - loss: 0.0091 - accuracy: 0.9979 - val_loss: 0.0560 - val_accuracy: 0.9910\n",
      "Epoch 13/50\n",
      "263/263 [==============================] - 10s 38ms/step - loss: 0.0047 - accuracy: 0.9988 - val_loss: 0.0752 - val_accuracy: 0.9906048 - accuracy\n",
      "Epoch 14/50\n",
      "263/263 [==============================] - 10s 38ms/step - loss: 0.0068 - accuracy: 0.9987 - val_loss: 0.0792 - val_accuracy: 0.98776s - loss: 5.1361e-0 - ETA: 5s - loss: 4.638 - ETA: 3s - los - ETA: 2s - los\n",
      "Epoch 15/50\n",
      "263/263 [==============================] - 11s 42ms/step - loss: 0.0154 - accuracy: 0.9971 - val_loss: 0.0866 - val_accuracy: 0.9837 ETA: 5s - l\n",
      "Epoch 16/50\n",
      "263/263 [==============================] - 11s 43ms/step - loss: 0.0079 - accuracy: 0.9980 - val_loss: 0.0590 - val_accuracy: 0.9918\n",
      "Epoch 17/50\n",
      "263/263 [==============================] - 11s 43ms/step - loss: 0.0020 - accuracy: 0.9994 - val_loss: 0.0643 - val_accuracy: 0.9921\n",
      "Epoch 18/50\n",
      "263/263 [==============================] - 11s 43ms/step - loss: 0.0036 - accuracy: 0.9990 - val_loss: 0.0608 - val_accuracy: 0.9926\n",
      "Epoch 19/50\n",
      "263/263 [==============================] - 11s 41ms/step - loss: 0.0015 - accuracy: 0.9997 - val_loss: 0.0745 - val_accuracy: 0.9902.9567e-0 - ETA: 0s - loss: 6.9843e-04 - ac\n",
      "Epoch 20/50\n",
      "263/263 [==============================] - 11s 40ms/step - loss: 0.0022 - accuracy: 0.9996 - val_loss: 0.0564 - val_accuracy: 0.9936025 - accura - ETA: 0s - los - ETA: 0s - loss: 0.0022 - accuracy: 0.99\n",
      "Epoch 21/50\n",
      "263/263 [==============================] - 10s 38ms/step - loss: 0.0011 - accuracy: 0.9998 - val_loss: 0.0619 - val_accuracy: 0.9932\n",
      "Epoch 22/50\n",
      "263/263 [==============================] - 10s 38ms/step - loss: 0.0020 - accuracy: 0.9997 - val_loss: 0.0739 - val_accuracy: 0.9923\n",
      "Epoch 23/50\n",
      "263/263 [==============================] - 10s 38ms/step - loss: 0.0019 - accuracy: 0.9995 - val_loss: 0.0677 - val_accuracy: 0.9913027 - accuracy:  - ETA: 7s - - - ETA: 0s - loss: 0.0019 - \n",
      "Epoch 24/50\n",
      "263/263 [==============================] - 10s 38ms/step - loss: 0.0086 - accuracy: 0.9984 - val_loss: 0.0660 - val_accuracy: 0.9871\n",
      "Epoch 25/50\n",
      "263/263 [==============================] - 11s 40ms/step - loss: 0.0036 - accuracy: 0.9990 - val_loss: 0.0582 - val_accuracy: 0.9908 0.0026 - accu - ETA: 5s - loss: 0.0024 - accuracy: 0. - E - ETA: 1s - loss: 0 - ETA: 0s - loss: 0.0035 -  - ETA: 0s - loss: 0.0036 - accuracy: 0.99\n",
      "Epoch 26/50\n",
      "263/263 [==============================] - 10s 38ms/step - loss: 0.0028 - accuracy: 0.9994 - val_loss: 0.0635 - val_accuracy: 0.9915 ETA: 6s - ETA: 0s - loss:\n",
      "Epoch 27/50\n",
      "263/263 [==============================] - 11s 43ms/step - loss: 9.7693e-04 - accuracy: 0.9998 - val_loss: 0.0804 - val_accuracy: 0.9895\n",
      "Epoch 28/50\n",
      "263/263 [==============================] - 11s 43ms/step - loss: 0.0032 - accuracy: 0.9993 - val_loss: 0.0611 - val_accuracy: 0.9918\n",
      "Epoch 29/50\n",
      "263/263 [==============================] - 11s 43ms/step - loss: 0.0040 - accuracy: 0.9992 - val_loss: 0.0651 - val_accuracy: 0.9910\n",
      "Epoch 30/50\n",
      "263/263 [==============================] - 12s 45ms/step - loss: 0.0025 - accuracy: 0.9995 - val_loss: 0.0728 - val_accuracy: 0.9914\n",
      "Epoch 31/50\n",
      "263/263 [==============================] - 10s 38ms/step - loss: 0.0035 - accuracy: 0.9993 - val_loss: 0.0620 - val_accuracy: 0.9915s: 0 - ETA: 1s - loss: 0.0041 - accuracy: 0. - ETA: 1s - loss: 0.0041 - accuracy - ETA: 1s - - ETA: 0s - loss: 0.0035 - accuracy: 0.99\n",
      "Epoch 32/50\n",
      "263/263 [==============================] - 10s 38ms/step - loss: 6.9934e-04 - accuracy: 0.9999 - val_loss: 0.0676 - val_accuracy: 0.9923.9441e-04 - accuracy - ETA: 1s - loss: 8.0688e-0 - ETA: 0s - loss: 7.4725e-0\n",
      "Epoch 33/50\n",
      "263/263 [==============================] - 10s 38ms/step - loss: 6.9926e-04 - accuracy: 0.9999 - val_loss: 0.0670 - val_accuracy: 0.9921\n",
      "Epoch 34/50\n",
      "263/263 [==============================] - 10s 38ms/step - loss: 0.0088 - accuracy: 0.9986 - val_loss: 0.0682 - val_accuracy: 0.9895\n",
      "Epoch 35/50\n",
      "263/263 [==============================] - 11s 41ms/step - loss: 0.0060 - accuracy: 0.9987 - val_loss: 0.0615 - val_accuracy: 0.9908\n",
      "Epoch 36/50\n",
      "263/263 [==============================] - 10s 40ms/step - loss: 0.0040 - accuracy: 0.9992 - val_loss: 0.0698 - val_accuracy: 0.9889\n",
      "Epoch 37/50\n",
      "263/263 [==============================] - 10s 39ms/step - loss: 0.0014 - accuracy: 0.9997 - val_loss: 0.0598 - val_accuracy: 0.9918\n",
      "Epoch 38/50\n",
      "263/263 [==============================] - 11s 43ms/step - loss: 8.9131e-04 - accuracy: 0.9998 - val_loss: 0.0697 - val_accuracy: 0.9912\n",
      "Epoch 39/50\n",
      "263/263 [==============================] - 11s 44ms/step - loss: 0.0033 - accuracy: 0.9994 - val_loss: 0.0708 - val_accuracy: 0.9908\n",
      "Epoch 40/50\n",
      "263/263 [==============================] - 12s 46ms/step - loss: 0.0016 - accuracy: 0.9996 - val_loss: 0.0715 - val_accuracy: 0.9911\n",
      "Epoch 41/50\n",
      "263/263 [==============================] - 11s 42ms/step - loss: 0.0026 - accuracy: 0.9996 - val_loss: 0.0769 - val_accuracy: 0.9908\n",
      "Epoch 42/50\n",
      "263/263 [==============================] - 10s 38ms/step - loss: 0.0017 - accuracy: 0.9995 - val_loss: 0.0778 - val_accuracy: 0.9907017 - accuracy\n",
      "Epoch 43/50\n",
      "263/263 [==============================] - 11s 43ms/step - loss: 0.0038 - accuracy: 0.9993 - val_loss: 0.0783 - val_accuracy: 0.9882\n",
      "Epoch 44/50\n",
      "263/263 [==============================] - 11s 43ms/step - loss: 0.0054 - accuracy: 0.9990 - val_loss: 0.0644 - val_accuracy: 0.9904\n",
      "Epoch 45/50\n",
      "263/263 [==============================] - 12s 46ms/step - loss: 0.0066 - accuracy: 0.9990 - val_loss: 0.0629 - val_accuracy: 0.9900\n",
      "Epoch 46/50\n",
      "263/263 [==============================] - 11s 43ms/step - loss: 0.0048 - accuracy: 0.9991 - val_loss: 0.0819 - val_accuracy: 0.9890\n",
      "Epoch 47/50\n",
      "263/263 [==============================] - 10s 39ms/step - loss: 0.0029 - accuracy: 0.9996 - val_loss: 0.0725 - val_accuracy: 0.9913\n",
      "Epoch 48/50\n",
      "263/263 [==============================] - 11s 40ms/step - loss: 9.1760e-04 - accuracy: 0.9999 - val_loss: 0.0859 - val_accuracy: 0.9912\n",
      "Epoch 49/50\n",
      "263/263 [==============================] - 10s 39ms/step - loss: 4.4607e-04 - accuracy: 0.9999 - val_loss: 0.0786 - val_accuracy: 0.9912\n",
      "Epoch 50/50\n",
      "263/263 [==============================] - 11s 41ms/step - loss: 8.7172e-04 - accuracy: 0.9997 - val_loss: 0.0773 - val_accuracy: 0.9919\n"
     ]
    },
    {
     "data": {
      "text/plain": [
       "<keras.callbacks.History at 0x214cfa41eb0>"
      ]
     },
     "execution_count": 50,
     "metadata": {},
     "output_type": "execute_result"
    }
   ],
   "source": [
    "model_fit(\"load_model_AlexNet\", load_model_AlexNet)"
   ]
  },
  {
   "cell_type": "markdown",
   "id": "f373d20f",
   "metadata": {},
   "source": [
    "# Best scores"
   ]
  },
  {
   "cell_type": "code",
   "execution_count": 31,
   "id": "91ebba78",
   "metadata": {
    "ExecuteTime": {
     "end_time": "2021-12-16T16:45:04.528497Z",
     "start_time": "2021-12-16T16:45:04.515309Z"
    }
   },
   "outputs": [
    {
     "name": "stdout",
     "output_type": "stream",
     "text": [
      "{\n",
      "    \"SVC\": {\n",
      "        \"accuracy_score\": 0.8536507936507937,\n",
      "        \"mean_absolute_error\": 0.5103968253968254,\n",
      "        \"mean_squared_error\": 2.373253968253968,\n",
      "        \"params\": {\n",
      "            \"ccp_alpha\": 0.0,\n",
      "            \"class_weight\": null,\n",
      "            \"criterion\": \"gini\",\n",
      "            \"max_depth\": null,\n",
      "            \"max_features\": null,\n",
      "            \"max_leaf_nodes\": null,\n",
      "            \"min_impurity_decrease\": 0.0,\n",
      "            \"min_samples_leaf\": 1,\n",
      "            \"min_samples_split\": 2,\n",
      "            \"min_weight_fraction_leaf\": 0.0,\n",
      "            \"random_state\": null,\n",
      "            \"splitter\": \"best\"\n",
      "        }\n",
      "    },\n",
      "    \"DTC\": {\n",
      "        \"accuracy_score\": 0.8536507936507937,\n",
      "        \"mean_absolute_error\": 0.5103968253968254,\n",
      "        \"mean_squared_error\": 2.373253968253968,\n",
      "        \"params\": {\n",
      "            \"ccp_alpha\": 0.0,\n",
      "            \"class_weight\": null,\n",
      "            \"criterion\": \"gini\",\n",
      "            \"max_depth\": null,\n",
      "            \"max_features\": null,\n",
      "            \"max_leaf_nodes\": null,\n",
      "            \"min_impurity_decrease\": 0.0,\n",
      "            \"min_samples_leaf\": 1,\n",
      "            \"min_samples_split\": 2,\n",
      "            \"min_weight_fraction_leaf\": 0.0,\n",
      "            \"random_state\": null,\n",
      "            \"splitter\": \"best\"\n",
      "        }\n",
      "    },\n",
      "    \"RFC\": {\n",
      "        \"accuracy_score\": 0.8536507936507937,\n",
      "        \"mean_absolute_error\": 0.5103968253968254,\n",
      "        \"mean_squared_error\": 2.373253968253968,\n",
      "        \"params\": {\n",
      "            \"ccp_alpha\": 0.0,\n",
      "            \"class_weight\": null,\n",
      "            \"criterion\": \"gini\",\n",
      "            \"max_depth\": null,\n",
      "            \"max_features\": null,\n",
      "            \"max_leaf_nodes\": null,\n",
      "            \"min_impurity_decrease\": 0.0,\n",
      "            \"min_samples_leaf\": 1,\n",
      "            \"min_samples_split\": 2,\n",
      "            \"min_weight_fraction_leaf\": 0.0,\n",
      "            \"random_state\": null,\n",
      "            \"splitter\": \"best\"\n",
      "        }\n",
      "    },\n",
      "    \"Best_DTC\": {\n",
      "        \"accuracy_score\": 0.8527777777777777,\n",
      "        \"mean_absolute_error\": 0.5263492063492063,\n",
      "        \"mean_squared_error\": 2.442222222222222,\n",
      "        \"params\": {\n",
      "            \"criterion\": \"entropy\",\n",
      "            \"max_depth\": 38,\n",
      "            \"min_samples_leaf\": 1,\n",
      "            \"min_samples_split\": 2\n",
      "        }\n",
      "    },\n",
      "    \"best_RFC\": {\n",
      "        \"accuracy_score\": 0.9646825396825397,\n",
      "        \"mean_absolute_error\": 0.1334126984126984,\n",
      "        \"mean_squared_error\": 0.6605555555555556,\n",
      "        \"params\": {\n",
      "            \"max_depth\": 25,\n",
      "            \"min_samples_leaf\": 1,\n",
      "            \"min_samples_split\": 2,\n",
      "            \"n_estimators\": 500\n",
      "        }\n",
      "    },\n",
      "    \"best_SVC\": {\n",
      "        \"accuracy_score\": 0.9723809523809523,\n",
      "        \"mean_absolute_error\": 0.1042063492063492,\n",
      "        \"mean_squared_error\": 0.5181746031746032,\n",
      "        \"params\": {\n",
      "            \"C\": 10,\n",
      "            \"gamma\": 0.01,\n",
      "            \"kernel\": \"poly\"\n",
      "        }\n",
      "    }\n",
      "}\n"
     ]
    }
   ],
   "source": [
    "print(json.dumps(best_scores, indent=4))"
   ]
  }
 ],
 "metadata": {
  "kernelspec": {
   "display_name": "Python 3 (ipykernel)",
   "language": "python",
   "name": "python3"
  },
  "language_info": {
   "codemirror_mode": {
    "name": "ipython",
    "version": 3
   },
   "file_extension": ".py",
   "mimetype": "text/x-python",
   "name": "python",
   "nbconvert_exporter": "python",
   "pygments_lexer": "ipython3",
   "version": "3.8.12"
  }
 },
 "nbformat": 4,
 "nbformat_minor": 5
}
